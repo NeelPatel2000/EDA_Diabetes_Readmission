{
 "cells": [
  {
   "cell_type": "markdown",
   "id": "37413b38",
   "metadata": {},
   "source": [
    "# EDA on Diabetes Readmission Dataset"
   ]
  },
  {
   "cell_type": "markdown",
   "id": "13d8c582",
   "metadata": {},
   "source": [
    "## Introduction\n",
    "\n",
    "This exploratory data analysis (EDA) project focuses on the Diabetes 130-US hospitals for years 1999–2008 dataset, which includes over 100,000 hospital admissions for diabetic patients. Diabetes Mellitus (DM) is a chronic illness that significantly impacts patient health outcomes and hospital resource use. Among diabetic patients, 30-day hospital readmission rates are notably high — between 14.4% and 22.7% — making it a critical quality-of-care metric.\n",
    "\n",
    "The primary objective of this EDA is to:\n",
    "\n",
    "-- Understand the distribution and relationships between patient demographics, hospital stay details, diagnosis codes, and medication usage.\n",
    "\n",
    "-- Identify patterns and factors that correlate with early (within 30 days) readmission.\n",
    "\n",
    "-- Explore which medications appear to be most commonly associated with reduced readmission rates.\n",
    "\n",
    "Through detailed visualizations and statistical summaries, this notebook aims to uncover insights that can help improve patient care, reduce hospital readmissions, and inform further analysis or predictive modeling."
   ]
  },
  {
   "cell_type": "code",
   "execution_count": 1,
   "id": "eec15271-2985-49ef-a7e4-84069c41788a",
   "metadata": {},
   "outputs": [],
   "source": [
    "# importing necessary libraries\n",
    "import pandas as pd\n",
    "import seaborn as sns\n",
    "import matplotlib.pyplot as plt"
   ]
  },
  {
   "cell_type": "markdown",
   "id": "84a0201a",
   "metadata": {},
   "source": [
    "## Data Overview"
   ]
  },
  {
   "cell_type": "code",
   "execution_count": 2,
   "id": "3d51190a-68a4-46cc-9472-2e5fb4cb9271",
   "metadata": {},
   "outputs": [],
   "source": [
    "# importing the dataset\n",
    "\n",
    "df = pd.read_csv(\"diabetic_data.csv\") \n",
    "pd.set_option('display.max_columns', None)"
   ]
  },
  {
   "cell_type": "code",
   "execution_count": 3,
   "id": "ed1d1d3a-a534-4f1d-bb85-f851119005f8",
   "metadata": {},
   "outputs": [
    {
     "data": {
      "application/vnd.microsoft.datawrangler.viewer.v0+json": {
       "columns": [
        {
         "name": "index",
         "rawType": "int64",
         "type": "integer"
        },
        {
         "name": "encounter_id",
         "rawType": "int64",
         "type": "integer"
        },
        {
         "name": "patient_nbr",
         "rawType": "int64",
         "type": "integer"
        },
        {
         "name": "race",
         "rawType": "object",
         "type": "string"
        },
        {
         "name": "gender",
         "rawType": "object",
         "type": "string"
        },
        {
         "name": "age",
         "rawType": "object",
         "type": "string"
        },
        {
         "name": "weight",
         "rawType": "object",
         "type": "string"
        },
        {
         "name": "admission_type_id",
         "rawType": "int64",
         "type": "integer"
        },
        {
         "name": "discharge_disposition_id",
         "rawType": "int64",
         "type": "integer"
        },
        {
         "name": "admission_source_id",
         "rawType": "int64",
         "type": "integer"
        },
        {
         "name": "time_in_hospital",
         "rawType": "int64",
         "type": "integer"
        },
        {
         "name": "payer_code",
         "rawType": "object",
         "type": "string"
        },
        {
         "name": "medical_specialty",
         "rawType": "object",
         "type": "string"
        },
        {
         "name": "num_lab_procedures",
         "rawType": "int64",
         "type": "integer"
        },
        {
         "name": "num_procedures",
         "rawType": "int64",
         "type": "integer"
        },
        {
         "name": "num_medications",
         "rawType": "int64",
         "type": "integer"
        },
        {
         "name": "number_outpatient",
         "rawType": "int64",
         "type": "integer"
        },
        {
         "name": "number_emergency",
         "rawType": "int64",
         "type": "integer"
        },
        {
         "name": "number_inpatient",
         "rawType": "int64",
         "type": "integer"
        },
        {
         "name": "diag_1",
         "rawType": "object",
         "type": "string"
        },
        {
         "name": "diag_2",
         "rawType": "object",
         "type": "string"
        },
        {
         "name": "diag_3",
         "rawType": "object",
         "type": "string"
        },
        {
         "name": "number_diagnoses",
         "rawType": "int64",
         "type": "integer"
        },
        {
         "name": "max_glu_serum",
         "rawType": "object",
         "type": "unknown"
        },
        {
         "name": "A1Cresult",
         "rawType": "object",
         "type": "unknown"
        },
        {
         "name": "metformin",
         "rawType": "object",
         "type": "string"
        },
        {
         "name": "repaglinide",
         "rawType": "object",
         "type": "string"
        },
        {
         "name": "nateglinide",
         "rawType": "object",
         "type": "string"
        },
        {
         "name": "chlorpropamide",
         "rawType": "object",
         "type": "string"
        },
        {
         "name": "glimepiride",
         "rawType": "object",
         "type": "string"
        },
        {
         "name": "acetohexamide",
         "rawType": "object",
         "type": "string"
        },
        {
         "name": "glipizide",
         "rawType": "object",
         "type": "string"
        },
        {
         "name": "glyburide",
         "rawType": "object",
         "type": "string"
        },
        {
         "name": "tolbutamide",
         "rawType": "object",
         "type": "string"
        },
        {
         "name": "pioglitazone",
         "rawType": "object",
         "type": "string"
        },
        {
         "name": "rosiglitazone",
         "rawType": "object",
         "type": "string"
        },
        {
         "name": "acarbose",
         "rawType": "object",
         "type": "string"
        },
        {
         "name": "miglitol",
         "rawType": "object",
         "type": "string"
        },
        {
         "name": "troglitazone",
         "rawType": "object",
         "type": "string"
        },
        {
         "name": "tolazamide",
         "rawType": "object",
         "type": "string"
        },
        {
         "name": "examide",
         "rawType": "object",
         "type": "string"
        },
        {
         "name": "citoglipton",
         "rawType": "object",
         "type": "string"
        },
        {
         "name": "insulin",
         "rawType": "object",
         "type": "string"
        },
        {
         "name": "glyburide-metformin",
         "rawType": "object",
         "type": "string"
        },
        {
         "name": "glipizide-metformin",
         "rawType": "object",
         "type": "string"
        },
        {
         "name": "glimepiride-pioglitazone",
         "rawType": "object",
         "type": "string"
        },
        {
         "name": "metformin-rosiglitazone",
         "rawType": "object",
         "type": "string"
        },
        {
         "name": "metformin-pioglitazone",
         "rawType": "object",
         "type": "string"
        },
        {
         "name": "change",
         "rawType": "object",
         "type": "string"
        },
        {
         "name": "diabetesMed",
         "rawType": "object",
         "type": "string"
        },
        {
         "name": "readmitted",
         "rawType": "object",
         "type": "string"
        }
       ],
       "conversionMethod": "pd.DataFrame",
       "ref": "609e633b-8630-44c2-ab35-b6717dae7a72",
       "rows": [
        [
         "0",
         "2278392",
         "8222157",
         "Caucasian",
         "Female",
         "[0-10)",
         "?",
         "6",
         "25",
         "1",
         "1",
         "?",
         "Pediatrics-Endocrinology",
         "41",
         "0",
         "1",
         "0",
         "0",
         "0",
         "250.83",
         "?",
         "?",
         "1",
         null,
         null,
         "No",
         "No",
         "No",
         "No",
         "No",
         "No",
         "No",
         "No",
         "No",
         "No",
         "No",
         "No",
         "No",
         "No",
         "No",
         "No",
         "No",
         "No",
         "No",
         "No",
         "No",
         "No",
         "No",
         "No",
         "No",
         "NO"
        ],
        [
         "1",
         "149190",
         "55629189",
         "Caucasian",
         "Female",
         "[10-20)",
         "?",
         "1",
         "1",
         "7",
         "3",
         "?",
         "?",
         "59",
         "0",
         "18",
         "0",
         "0",
         "0",
         "276",
         "250.01",
         "255",
         "9",
         null,
         null,
         "No",
         "No",
         "No",
         "No",
         "No",
         "No",
         "No",
         "No",
         "No",
         "No",
         "No",
         "No",
         "No",
         "No",
         "No",
         "No",
         "No",
         "Up",
         "No",
         "No",
         "No",
         "No",
         "No",
         "Ch",
         "Yes",
         ">30"
        ],
        [
         "2",
         "64410",
         "86047875",
         "AfricanAmerican",
         "Female",
         "[20-30)",
         "?",
         "1",
         "1",
         "7",
         "2",
         "?",
         "?",
         "11",
         "5",
         "13",
         "2",
         "0",
         "1",
         "648",
         "250",
         "V27",
         "6",
         null,
         null,
         "No",
         "No",
         "No",
         "No",
         "No",
         "No",
         "Steady",
         "No",
         "No",
         "No",
         "No",
         "No",
         "No",
         "No",
         "No",
         "No",
         "No",
         "No",
         "No",
         "No",
         "No",
         "No",
         "No",
         "No",
         "Yes",
         "NO"
        ],
        [
         "3",
         "500364",
         "82442376",
         "Caucasian",
         "Male",
         "[30-40)",
         "?",
         "1",
         "1",
         "7",
         "2",
         "?",
         "?",
         "44",
         "1",
         "16",
         "0",
         "0",
         "0",
         "8",
         "250.43",
         "403",
         "7",
         null,
         null,
         "No",
         "No",
         "No",
         "No",
         "No",
         "No",
         "No",
         "No",
         "No",
         "No",
         "No",
         "No",
         "No",
         "No",
         "No",
         "No",
         "No",
         "Up",
         "No",
         "No",
         "No",
         "No",
         "No",
         "Ch",
         "Yes",
         "NO"
        ],
        [
         "4",
         "16680",
         "42519267",
         "Caucasian",
         "Male",
         "[40-50)",
         "?",
         "1",
         "1",
         "7",
         "1",
         "?",
         "?",
         "51",
         "0",
         "8",
         "0",
         "0",
         "0",
         "197",
         "157",
         "250",
         "5",
         null,
         null,
         "No",
         "No",
         "No",
         "No",
         "No",
         "No",
         "Steady",
         "No",
         "No",
         "No",
         "No",
         "No",
         "No",
         "No",
         "No",
         "No",
         "No",
         "Steady",
         "No",
         "No",
         "No",
         "No",
         "No",
         "Ch",
         "Yes",
         "NO"
        ]
       ],
       "shape": {
        "columns": 50,
        "rows": 5
       }
      },
      "text/html": [
       "<div>\n",
       "<style scoped>\n",
       "    .dataframe tbody tr th:only-of-type {\n",
       "        vertical-align: middle;\n",
       "    }\n",
       "\n",
       "    .dataframe tbody tr th {\n",
       "        vertical-align: top;\n",
       "    }\n",
       "\n",
       "    .dataframe thead th {\n",
       "        text-align: right;\n",
       "    }\n",
       "</style>\n",
       "<table border=\"1\" class=\"dataframe\">\n",
       "  <thead>\n",
       "    <tr style=\"text-align: right;\">\n",
       "      <th></th>\n",
       "      <th>encounter_id</th>\n",
       "      <th>patient_nbr</th>\n",
       "      <th>race</th>\n",
       "      <th>gender</th>\n",
       "      <th>age</th>\n",
       "      <th>weight</th>\n",
       "      <th>admission_type_id</th>\n",
       "      <th>discharge_disposition_id</th>\n",
       "      <th>admission_source_id</th>\n",
       "      <th>time_in_hospital</th>\n",
       "      <th>payer_code</th>\n",
       "      <th>medical_specialty</th>\n",
       "      <th>num_lab_procedures</th>\n",
       "      <th>num_procedures</th>\n",
       "      <th>num_medications</th>\n",
       "      <th>number_outpatient</th>\n",
       "      <th>number_emergency</th>\n",
       "      <th>number_inpatient</th>\n",
       "      <th>diag_1</th>\n",
       "      <th>diag_2</th>\n",
       "      <th>diag_3</th>\n",
       "      <th>number_diagnoses</th>\n",
       "      <th>max_glu_serum</th>\n",
       "      <th>A1Cresult</th>\n",
       "      <th>metformin</th>\n",
       "      <th>repaglinide</th>\n",
       "      <th>nateglinide</th>\n",
       "      <th>chlorpropamide</th>\n",
       "      <th>glimepiride</th>\n",
       "      <th>acetohexamide</th>\n",
       "      <th>glipizide</th>\n",
       "      <th>glyburide</th>\n",
       "      <th>tolbutamide</th>\n",
       "      <th>pioglitazone</th>\n",
       "      <th>rosiglitazone</th>\n",
       "      <th>acarbose</th>\n",
       "      <th>miglitol</th>\n",
       "      <th>troglitazone</th>\n",
       "      <th>tolazamide</th>\n",
       "      <th>examide</th>\n",
       "      <th>citoglipton</th>\n",
       "      <th>insulin</th>\n",
       "      <th>glyburide-metformin</th>\n",
       "      <th>glipizide-metformin</th>\n",
       "      <th>glimepiride-pioglitazone</th>\n",
       "      <th>metformin-rosiglitazone</th>\n",
       "      <th>metformin-pioglitazone</th>\n",
       "      <th>change</th>\n",
       "      <th>diabetesMed</th>\n",
       "      <th>readmitted</th>\n",
       "    </tr>\n",
       "  </thead>\n",
       "  <tbody>\n",
       "    <tr>\n",
       "      <th>0</th>\n",
       "      <td>2278392</td>\n",
       "      <td>8222157</td>\n",
       "      <td>Caucasian</td>\n",
       "      <td>Female</td>\n",
       "      <td>[0-10)</td>\n",
       "      <td>?</td>\n",
       "      <td>6</td>\n",
       "      <td>25</td>\n",
       "      <td>1</td>\n",
       "      <td>1</td>\n",
       "      <td>?</td>\n",
       "      <td>Pediatrics-Endocrinology</td>\n",
       "      <td>41</td>\n",
       "      <td>0</td>\n",
       "      <td>1</td>\n",
       "      <td>0</td>\n",
       "      <td>0</td>\n",
       "      <td>0</td>\n",
       "      <td>250.83</td>\n",
       "      <td>?</td>\n",
       "      <td>?</td>\n",
       "      <td>1</td>\n",
       "      <td>NaN</td>\n",
       "      <td>NaN</td>\n",
       "      <td>No</td>\n",
       "      <td>No</td>\n",
       "      <td>No</td>\n",
       "      <td>No</td>\n",
       "      <td>No</td>\n",
       "      <td>No</td>\n",
       "      <td>No</td>\n",
       "      <td>No</td>\n",
       "      <td>No</td>\n",
       "      <td>No</td>\n",
       "      <td>No</td>\n",
       "      <td>No</td>\n",
       "      <td>No</td>\n",
       "      <td>No</td>\n",
       "      <td>No</td>\n",
       "      <td>No</td>\n",
       "      <td>No</td>\n",
       "      <td>No</td>\n",
       "      <td>No</td>\n",
       "      <td>No</td>\n",
       "      <td>No</td>\n",
       "      <td>No</td>\n",
       "      <td>No</td>\n",
       "      <td>No</td>\n",
       "      <td>No</td>\n",
       "      <td>NO</td>\n",
       "    </tr>\n",
       "    <tr>\n",
       "      <th>1</th>\n",
       "      <td>149190</td>\n",
       "      <td>55629189</td>\n",
       "      <td>Caucasian</td>\n",
       "      <td>Female</td>\n",
       "      <td>[10-20)</td>\n",
       "      <td>?</td>\n",
       "      <td>1</td>\n",
       "      <td>1</td>\n",
       "      <td>7</td>\n",
       "      <td>3</td>\n",
       "      <td>?</td>\n",
       "      <td>?</td>\n",
       "      <td>59</td>\n",
       "      <td>0</td>\n",
       "      <td>18</td>\n",
       "      <td>0</td>\n",
       "      <td>0</td>\n",
       "      <td>0</td>\n",
       "      <td>276</td>\n",
       "      <td>250.01</td>\n",
       "      <td>255</td>\n",
       "      <td>9</td>\n",
       "      <td>NaN</td>\n",
       "      <td>NaN</td>\n",
       "      <td>No</td>\n",
       "      <td>No</td>\n",
       "      <td>No</td>\n",
       "      <td>No</td>\n",
       "      <td>No</td>\n",
       "      <td>No</td>\n",
       "      <td>No</td>\n",
       "      <td>No</td>\n",
       "      <td>No</td>\n",
       "      <td>No</td>\n",
       "      <td>No</td>\n",
       "      <td>No</td>\n",
       "      <td>No</td>\n",
       "      <td>No</td>\n",
       "      <td>No</td>\n",
       "      <td>No</td>\n",
       "      <td>No</td>\n",
       "      <td>Up</td>\n",
       "      <td>No</td>\n",
       "      <td>No</td>\n",
       "      <td>No</td>\n",
       "      <td>No</td>\n",
       "      <td>No</td>\n",
       "      <td>Ch</td>\n",
       "      <td>Yes</td>\n",
       "      <td>&gt;30</td>\n",
       "    </tr>\n",
       "    <tr>\n",
       "      <th>2</th>\n",
       "      <td>64410</td>\n",
       "      <td>86047875</td>\n",
       "      <td>AfricanAmerican</td>\n",
       "      <td>Female</td>\n",
       "      <td>[20-30)</td>\n",
       "      <td>?</td>\n",
       "      <td>1</td>\n",
       "      <td>1</td>\n",
       "      <td>7</td>\n",
       "      <td>2</td>\n",
       "      <td>?</td>\n",
       "      <td>?</td>\n",
       "      <td>11</td>\n",
       "      <td>5</td>\n",
       "      <td>13</td>\n",
       "      <td>2</td>\n",
       "      <td>0</td>\n",
       "      <td>1</td>\n",
       "      <td>648</td>\n",
       "      <td>250</td>\n",
       "      <td>V27</td>\n",
       "      <td>6</td>\n",
       "      <td>NaN</td>\n",
       "      <td>NaN</td>\n",
       "      <td>No</td>\n",
       "      <td>No</td>\n",
       "      <td>No</td>\n",
       "      <td>No</td>\n",
       "      <td>No</td>\n",
       "      <td>No</td>\n",
       "      <td>Steady</td>\n",
       "      <td>No</td>\n",
       "      <td>No</td>\n",
       "      <td>No</td>\n",
       "      <td>No</td>\n",
       "      <td>No</td>\n",
       "      <td>No</td>\n",
       "      <td>No</td>\n",
       "      <td>No</td>\n",
       "      <td>No</td>\n",
       "      <td>No</td>\n",
       "      <td>No</td>\n",
       "      <td>No</td>\n",
       "      <td>No</td>\n",
       "      <td>No</td>\n",
       "      <td>No</td>\n",
       "      <td>No</td>\n",
       "      <td>No</td>\n",
       "      <td>Yes</td>\n",
       "      <td>NO</td>\n",
       "    </tr>\n",
       "    <tr>\n",
       "      <th>3</th>\n",
       "      <td>500364</td>\n",
       "      <td>82442376</td>\n",
       "      <td>Caucasian</td>\n",
       "      <td>Male</td>\n",
       "      <td>[30-40)</td>\n",
       "      <td>?</td>\n",
       "      <td>1</td>\n",
       "      <td>1</td>\n",
       "      <td>7</td>\n",
       "      <td>2</td>\n",
       "      <td>?</td>\n",
       "      <td>?</td>\n",
       "      <td>44</td>\n",
       "      <td>1</td>\n",
       "      <td>16</td>\n",
       "      <td>0</td>\n",
       "      <td>0</td>\n",
       "      <td>0</td>\n",
       "      <td>8</td>\n",
       "      <td>250.43</td>\n",
       "      <td>403</td>\n",
       "      <td>7</td>\n",
       "      <td>NaN</td>\n",
       "      <td>NaN</td>\n",
       "      <td>No</td>\n",
       "      <td>No</td>\n",
       "      <td>No</td>\n",
       "      <td>No</td>\n",
       "      <td>No</td>\n",
       "      <td>No</td>\n",
       "      <td>No</td>\n",
       "      <td>No</td>\n",
       "      <td>No</td>\n",
       "      <td>No</td>\n",
       "      <td>No</td>\n",
       "      <td>No</td>\n",
       "      <td>No</td>\n",
       "      <td>No</td>\n",
       "      <td>No</td>\n",
       "      <td>No</td>\n",
       "      <td>No</td>\n",
       "      <td>Up</td>\n",
       "      <td>No</td>\n",
       "      <td>No</td>\n",
       "      <td>No</td>\n",
       "      <td>No</td>\n",
       "      <td>No</td>\n",
       "      <td>Ch</td>\n",
       "      <td>Yes</td>\n",
       "      <td>NO</td>\n",
       "    </tr>\n",
       "    <tr>\n",
       "      <th>4</th>\n",
       "      <td>16680</td>\n",
       "      <td>42519267</td>\n",
       "      <td>Caucasian</td>\n",
       "      <td>Male</td>\n",
       "      <td>[40-50)</td>\n",
       "      <td>?</td>\n",
       "      <td>1</td>\n",
       "      <td>1</td>\n",
       "      <td>7</td>\n",
       "      <td>1</td>\n",
       "      <td>?</td>\n",
       "      <td>?</td>\n",
       "      <td>51</td>\n",
       "      <td>0</td>\n",
       "      <td>8</td>\n",
       "      <td>0</td>\n",
       "      <td>0</td>\n",
       "      <td>0</td>\n",
       "      <td>197</td>\n",
       "      <td>157</td>\n",
       "      <td>250</td>\n",
       "      <td>5</td>\n",
       "      <td>NaN</td>\n",
       "      <td>NaN</td>\n",
       "      <td>No</td>\n",
       "      <td>No</td>\n",
       "      <td>No</td>\n",
       "      <td>No</td>\n",
       "      <td>No</td>\n",
       "      <td>No</td>\n",
       "      <td>Steady</td>\n",
       "      <td>No</td>\n",
       "      <td>No</td>\n",
       "      <td>No</td>\n",
       "      <td>No</td>\n",
       "      <td>No</td>\n",
       "      <td>No</td>\n",
       "      <td>No</td>\n",
       "      <td>No</td>\n",
       "      <td>No</td>\n",
       "      <td>No</td>\n",
       "      <td>Steady</td>\n",
       "      <td>No</td>\n",
       "      <td>No</td>\n",
       "      <td>No</td>\n",
       "      <td>No</td>\n",
       "      <td>No</td>\n",
       "      <td>Ch</td>\n",
       "      <td>Yes</td>\n",
       "      <td>NO</td>\n",
       "    </tr>\n",
       "  </tbody>\n",
       "</table>\n",
       "</div>"
      ],
      "text/plain": [
       "   encounter_id  patient_nbr             race  gender      age weight  \\\n",
       "0       2278392      8222157        Caucasian  Female   [0-10)      ?   \n",
       "1        149190     55629189        Caucasian  Female  [10-20)      ?   \n",
       "2         64410     86047875  AfricanAmerican  Female  [20-30)      ?   \n",
       "3        500364     82442376        Caucasian    Male  [30-40)      ?   \n",
       "4         16680     42519267        Caucasian    Male  [40-50)      ?   \n",
       "\n",
       "   admission_type_id  discharge_disposition_id  admission_source_id  \\\n",
       "0                  6                        25                    1   \n",
       "1                  1                         1                    7   \n",
       "2                  1                         1                    7   \n",
       "3                  1                         1                    7   \n",
       "4                  1                         1                    7   \n",
       "\n",
       "   time_in_hospital payer_code         medical_specialty  num_lab_procedures  \\\n",
       "0                 1          ?  Pediatrics-Endocrinology                  41   \n",
       "1                 3          ?                         ?                  59   \n",
       "2                 2          ?                         ?                  11   \n",
       "3                 2          ?                         ?                  44   \n",
       "4                 1          ?                         ?                  51   \n",
       "\n",
       "   num_procedures  num_medications  number_outpatient  number_emergency  \\\n",
       "0               0                1                  0                 0   \n",
       "1               0               18                  0                 0   \n",
       "2               5               13                  2                 0   \n",
       "3               1               16                  0                 0   \n",
       "4               0                8                  0                 0   \n",
       "\n",
       "   number_inpatient  diag_1  diag_2 diag_3  number_diagnoses max_glu_serum  \\\n",
       "0                 0  250.83       ?      ?                 1           NaN   \n",
       "1                 0     276  250.01    255                 9           NaN   \n",
       "2                 1     648     250    V27                 6           NaN   \n",
       "3                 0       8  250.43    403                 7           NaN   \n",
       "4                 0     197     157    250                 5           NaN   \n",
       "\n",
       "  A1Cresult metformin repaglinide nateglinide chlorpropamide glimepiride  \\\n",
       "0       NaN        No          No          No             No          No   \n",
       "1       NaN        No          No          No             No          No   \n",
       "2       NaN        No          No          No             No          No   \n",
       "3       NaN        No          No          No             No          No   \n",
       "4       NaN        No          No          No             No          No   \n",
       "\n",
       "  acetohexamide glipizide glyburide tolbutamide pioglitazone rosiglitazone  \\\n",
       "0            No        No        No          No           No            No   \n",
       "1            No        No        No          No           No            No   \n",
       "2            No    Steady        No          No           No            No   \n",
       "3            No        No        No          No           No            No   \n",
       "4            No    Steady        No          No           No            No   \n",
       "\n",
       "  acarbose miglitol troglitazone tolazamide examide citoglipton insulin  \\\n",
       "0       No       No           No         No      No          No      No   \n",
       "1       No       No           No         No      No          No      Up   \n",
       "2       No       No           No         No      No          No      No   \n",
       "3       No       No           No         No      No          No      Up   \n",
       "4       No       No           No         No      No          No  Steady   \n",
       "\n",
       "  glyburide-metformin glipizide-metformin glimepiride-pioglitazone  \\\n",
       "0                  No                  No                       No   \n",
       "1                  No                  No                       No   \n",
       "2                  No                  No                       No   \n",
       "3                  No                  No                       No   \n",
       "4                  No                  No                       No   \n",
       "\n",
       "  metformin-rosiglitazone metformin-pioglitazone change diabetesMed readmitted  \n",
       "0                      No                     No     No          No         NO  \n",
       "1                      No                     No     Ch         Yes        >30  \n",
       "2                      No                     No     No         Yes         NO  \n",
       "3                      No                     No     Ch         Yes         NO  \n",
       "4                      No                     No     Ch         Yes         NO  "
      ]
     },
     "execution_count": 3,
     "metadata": {},
     "output_type": "execute_result"
    }
   ],
   "source": [
    "# dataset head\n",
    "\n",
    "df.head()"
   ]
  },
  {
   "cell_type": "code",
   "execution_count": 4,
   "id": "d9cdd444-8cfb-481d-9ca7-835a748e9be6",
   "metadata": {},
   "outputs": [
    {
     "data": {
      "application/vnd.microsoft.datawrangler.viewer.v0+json": {
       "columns": [
        {
         "name": "index",
         "rawType": "int64",
         "type": "integer"
        },
        {
         "name": "encounter_id",
         "rawType": "int64",
         "type": "integer"
        },
        {
         "name": "patient_nbr",
         "rawType": "int64",
         "type": "integer"
        },
        {
         "name": "race",
         "rawType": "object",
         "type": "string"
        },
        {
         "name": "gender",
         "rawType": "object",
         "type": "string"
        },
        {
         "name": "age",
         "rawType": "object",
         "type": "string"
        },
        {
         "name": "weight",
         "rawType": "object",
         "type": "string"
        },
        {
         "name": "admission_type_id",
         "rawType": "int64",
         "type": "integer"
        },
        {
         "name": "discharge_disposition_id",
         "rawType": "int64",
         "type": "integer"
        },
        {
         "name": "admission_source_id",
         "rawType": "int64",
         "type": "integer"
        },
        {
         "name": "time_in_hospital",
         "rawType": "int64",
         "type": "integer"
        },
        {
         "name": "payer_code",
         "rawType": "object",
         "type": "string"
        },
        {
         "name": "medical_specialty",
         "rawType": "object",
         "type": "string"
        },
        {
         "name": "num_lab_procedures",
         "rawType": "int64",
         "type": "integer"
        },
        {
         "name": "num_procedures",
         "rawType": "int64",
         "type": "integer"
        },
        {
         "name": "num_medications",
         "rawType": "int64",
         "type": "integer"
        },
        {
         "name": "number_outpatient",
         "rawType": "int64",
         "type": "integer"
        },
        {
         "name": "number_emergency",
         "rawType": "int64",
         "type": "integer"
        },
        {
         "name": "number_inpatient",
         "rawType": "int64",
         "type": "integer"
        },
        {
         "name": "diag_1",
         "rawType": "object",
         "type": "string"
        },
        {
         "name": "diag_2",
         "rawType": "object",
         "type": "string"
        },
        {
         "name": "diag_3",
         "rawType": "object",
         "type": "string"
        },
        {
         "name": "number_diagnoses",
         "rawType": "int64",
         "type": "integer"
        },
        {
         "name": "max_glu_serum",
         "rawType": "object",
         "type": "unknown"
        },
        {
         "name": "A1Cresult",
         "rawType": "object",
         "type": "unknown"
        },
        {
         "name": "metformin",
         "rawType": "object",
         "type": "string"
        },
        {
         "name": "repaglinide",
         "rawType": "object",
         "type": "string"
        },
        {
         "name": "nateglinide",
         "rawType": "object",
         "type": "string"
        },
        {
         "name": "chlorpropamide",
         "rawType": "object",
         "type": "string"
        },
        {
         "name": "glimepiride",
         "rawType": "object",
         "type": "string"
        },
        {
         "name": "acetohexamide",
         "rawType": "object",
         "type": "string"
        },
        {
         "name": "glipizide",
         "rawType": "object",
         "type": "string"
        },
        {
         "name": "glyburide",
         "rawType": "object",
         "type": "string"
        },
        {
         "name": "tolbutamide",
         "rawType": "object",
         "type": "string"
        },
        {
         "name": "pioglitazone",
         "rawType": "object",
         "type": "string"
        },
        {
         "name": "rosiglitazone",
         "rawType": "object",
         "type": "string"
        },
        {
         "name": "acarbose",
         "rawType": "object",
         "type": "string"
        },
        {
         "name": "miglitol",
         "rawType": "object",
         "type": "string"
        },
        {
         "name": "troglitazone",
         "rawType": "object",
         "type": "string"
        },
        {
         "name": "tolazamide",
         "rawType": "object",
         "type": "string"
        },
        {
         "name": "examide",
         "rawType": "object",
         "type": "string"
        },
        {
         "name": "citoglipton",
         "rawType": "object",
         "type": "string"
        },
        {
         "name": "insulin",
         "rawType": "object",
         "type": "string"
        },
        {
         "name": "glyburide-metformin",
         "rawType": "object",
         "type": "string"
        },
        {
         "name": "glipizide-metformin",
         "rawType": "object",
         "type": "string"
        },
        {
         "name": "glimepiride-pioglitazone",
         "rawType": "object",
         "type": "string"
        },
        {
         "name": "metformin-rosiglitazone",
         "rawType": "object",
         "type": "string"
        },
        {
         "name": "metformin-pioglitazone",
         "rawType": "object",
         "type": "string"
        },
        {
         "name": "change",
         "rawType": "object",
         "type": "string"
        },
        {
         "name": "diabetesMed",
         "rawType": "object",
         "type": "string"
        },
        {
         "name": "readmitted",
         "rawType": "object",
         "type": "string"
        }
       ],
       "conversionMethod": "pd.DataFrame",
       "ref": "3d411433-8706-4716-ac5f-347d9fc85f8b",
       "rows": [
        [
         "101761",
         "443847548",
         "100162476",
         "AfricanAmerican",
         "Male",
         "[70-80)",
         "?",
         "1",
         "3",
         "7",
         "3",
         "MC",
         "?",
         "51",
         "0",
         "16",
         "0",
         "0",
         "0",
         "250.13",
         "291",
         "458",
         "9",
         null,
         ">8",
         "Steady",
         "No",
         "No",
         "No",
         "No",
         "No",
         "No",
         "No",
         "No",
         "No",
         "No",
         "No",
         "No",
         "No",
         "No",
         "No",
         "No",
         "Down",
         "No",
         "No",
         "No",
         "No",
         "No",
         "Ch",
         "Yes",
         ">30"
        ],
        [
         "101762",
         "443847782",
         "74694222",
         "AfricanAmerican",
         "Female",
         "[80-90)",
         "?",
         "1",
         "4",
         "5",
         "5",
         "MC",
         "?",
         "33",
         "3",
         "18",
         "0",
         "0",
         "1",
         "560",
         "276",
         "787",
         "9",
         null,
         null,
         "No",
         "No",
         "No",
         "No",
         "No",
         "No",
         "No",
         "No",
         "No",
         "No",
         "No",
         "No",
         "No",
         "No",
         "No",
         "No",
         "No",
         "Steady",
         "No",
         "No",
         "No",
         "No",
         "No",
         "No",
         "Yes",
         "NO"
        ],
        [
         "101763",
         "443854148",
         "41088789",
         "Caucasian",
         "Male",
         "[70-80)",
         "?",
         "1",
         "1",
         "7",
         "1",
         "MC",
         "?",
         "53",
         "0",
         "9",
         "1",
         "0",
         "0",
         "38",
         "590",
         "296",
         "13",
         null,
         null,
         "Steady",
         "No",
         "No",
         "No",
         "No",
         "No",
         "No",
         "No",
         "No",
         "No",
         "No",
         "No",
         "No",
         "No",
         "No",
         "No",
         "No",
         "Down",
         "No",
         "No",
         "No",
         "No",
         "No",
         "Ch",
         "Yes",
         "NO"
        ],
        [
         "101764",
         "443857166",
         "31693671",
         "Caucasian",
         "Female",
         "[80-90)",
         "?",
         "2",
         "3",
         "7",
         "10",
         "MC",
         "Surgery-General",
         "45",
         "2",
         "21",
         "0",
         "0",
         "1",
         "996",
         "285",
         "998",
         "9",
         null,
         null,
         "No",
         "No",
         "No",
         "No",
         "No",
         "No",
         "Steady",
         "No",
         "No",
         "Steady",
         "No",
         "No",
         "No",
         "No",
         "No",
         "No",
         "No",
         "Up",
         "No",
         "No",
         "No",
         "No",
         "No",
         "Ch",
         "Yes",
         "NO"
        ],
        [
         "101765",
         "443867222",
         "175429310",
         "Caucasian",
         "Male",
         "[70-80)",
         "?",
         "1",
         "1",
         "7",
         "6",
         "?",
         "?",
         "13",
         "3",
         "3",
         "0",
         "0",
         "0",
         "530",
         "530",
         "787",
         "9",
         null,
         null,
         "No",
         "No",
         "No",
         "No",
         "No",
         "No",
         "No",
         "No",
         "No",
         "No",
         "No",
         "No",
         "No",
         "No",
         "No",
         "No",
         "No",
         "No",
         "No",
         "No",
         "No",
         "No",
         "No",
         "No",
         "No",
         "NO"
        ]
       ],
       "shape": {
        "columns": 50,
        "rows": 5
       }
      },
      "text/html": [
       "<div>\n",
       "<style scoped>\n",
       "    .dataframe tbody tr th:only-of-type {\n",
       "        vertical-align: middle;\n",
       "    }\n",
       "\n",
       "    .dataframe tbody tr th {\n",
       "        vertical-align: top;\n",
       "    }\n",
       "\n",
       "    .dataframe thead th {\n",
       "        text-align: right;\n",
       "    }\n",
       "</style>\n",
       "<table border=\"1\" class=\"dataframe\">\n",
       "  <thead>\n",
       "    <tr style=\"text-align: right;\">\n",
       "      <th></th>\n",
       "      <th>encounter_id</th>\n",
       "      <th>patient_nbr</th>\n",
       "      <th>race</th>\n",
       "      <th>gender</th>\n",
       "      <th>age</th>\n",
       "      <th>weight</th>\n",
       "      <th>admission_type_id</th>\n",
       "      <th>discharge_disposition_id</th>\n",
       "      <th>admission_source_id</th>\n",
       "      <th>time_in_hospital</th>\n",
       "      <th>payer_code</th>\n",
       "      <th>medical_specialty</th>\n",
       "      <th>num_lab_procedures</th>\n",
       "      <th>num_procedures</th>\n",
       "      <th>num_medications</th>\n",
       "      <th>number_outpatient</th>\n",
       "      <th>number_emergency</th>\n",
       "      <th>number_inpatient</th>\n",
       "      <th>diag_1</th>\n",
       "      <th>diag_2</th>\n",
       "      <th>diag_3</th>\n",
       "      <th>number_diagnoses</th>\n",
       "      <th>max_glu_serum</th>\n",
       "      <th>A1Cresult</th>\n",
       "      <th>metformin</th>\n",
       "      <th>repaglinide</th>\n",
       "      <th>nateglinide</th>\n",
       "      <th>chlorpropamide</th>\n",
       "      <th>glimepiride</th>\n",
       "      <th>acetohexamide</th>\n",
       "      <th>glipizide</th>\n",
       "      <th>glyburide</th>\n",
       "      <th>tolbutamide</th>\n",
       "      <th>pioglitazone</th>\n",
       "      <th>rosiglitazone</th>\n",
       "      <th>acarbose</th>\n",
       "      <th>miglitol</th>\n",
       "      <th>troglitazone</th>\n",
       "      <th>tolazamide</th>\n",
       "      <th>examide</th>\n",
       "      <th>citoglipton</th>\n",
       "      <th>insulin</th>\n",
       "      <th>glyburide-metformin</th>\n",
       "      <th>glipizide-metformin</th>\n",
       "      <th>glimepiride-pioglitazone</th>\n",
       "      <th>metformin-rosiglitazone</th>\n",
       "      <th>metformin-pioglitazone</th>\n",
       "      <th>change</th>\n",
       "      <th>diabetesMed</th>\n",
       "      <th>readmitted</th>\n",
       "    </tr>\n",
       "  </thead>\n",
       "  <tbody>\n",
       "    <tr>\n",
       "      <th>101761</th>\n",
       "      <td>443847548</td>\n",
       "      <td>100162476</td>\n",
       "      <td>AfricanAmerican</td>\n",
       "      <td>Male</td>\n",
       "      <td>[70-80)</td>\n",
       "      <td>?</td>\n",
       "      <td>1</td>\n",
       "      <td>3</td>\n",
       "      <td>7</td>\n",
       "      <td>3</td>\n",
       "      <td>MC</td>\n",
       "      <td>?</td>\n",
       "      <td>51</td>\n",
       "      <td>0</td>\n",
       "      <td>16</td>\n",
       "      <td>0</td>\n",
       "      <td>0</td>\n",
       "      <td>0</td>\n",
       "      <td>250.13</td>\n",
       "      <td>291</td>\n",
       "      <td>458</td>\n",
       "      <td>9</td>\n",
       "      <td>NaN</td>\n",
       "      <td>&gt;8</td>\n",
       "      <td>Steady</td>\n",
       "      <td>No</td>\n",
       "      <td>No</td>\n",
       "      <td>No</td>\n",
       "      <td>No</td>\n",
       "      <td>No</td>\n",
       "      <td>No</td>\n",
       "      <td>No</td>\n",
       "      <td>No</td>\n",
       "      <td>No</td>\n",
       "      <td>No</td>\n",
       "      <td>No</td>\n",
       "      <td>No</td>\n",
       "      <td>No</td>\n",
       "      <td>No</td>\n",
       "      <td>No</td>\n",
       "      <td>No</td>\n",
       "      <td>Down</td>\n",
       "      <td>No</td>\n",
       "      <td>No</td>\n",
       "      <td>No</td>\n",
       "      <td>No</td>\n",
       "      <td>No</td>\n",
       "      <td>Ch</td>\n",
       "      <td>Yes</td>\n",
       "      <td>&gt;30</td>\n",
       "    </tr>\n",
       "    <tr>\n",
       "      <th>101762</th>\n",
       "      <td>443847782</td>\n",
       "      <td>74694222</td>\n",
       "      <td>AfricanAmerican</td>\n",
       "      <td>Female</td>\n",
       "      <td>[80-90)</td>\n",
       "      <td>?</td>\n",
       "      <td>1</td>\n",
       "      <td>4</td>\n",
       "      <td>5</td>\n",
       "      <td>5</td>\n",
       "      <td>MC</td>\n",
       "      <td>?</td>\n",
       "      <td>33</td>\n",
       "      <td>3</td>\n",
       "      <td>18</td>\n",
       "      <td>0</td>\n",
       "      <td>0</td>\n",
       "      <td>1</td>\n",
       "      <td>560</td>\n",
       "      <td>276</td>\n",
       "      <td>787</td>\n",
       "      <td>9</td>\n",
       "      <td>NaN</td>\n",
       "      <td>NaN</td>\n",
       "      <td>No</td>\n",
       "      <td>No</td>\n",
       "      <td>No</td>\n",
       "      <td>No</td>\n",
       "      <td>No</td>\n",
       "      <td>No</td>\n",
       "      <td>No</td>\n",
       "      <td>No</td>\n",
       "      <td>No</td>\n",
       "      <td>No</td>\n",
       "      <td>No</td>\n",
       "      <td>No</td>\n",
       "      <td>No</td>\n",
       "      <td>No</td>\n",
       "      <td>No</td>\n",
       "      <td>No</td>\n",
       "      <td>No</td>\n",
       "      <td>Steady</td>\n",
       "      <td>No</td>\n",
       "      <td>No</td>\n",
       "      <td>No</td>\n",
       "      <td>No</td>\n",
       "      <td>No</td>\n",
       "      <td>No</td>\n",
       "      <td>Yes</td>\n",
       "      <td>NO</td>\n",
       "    </tr>\n",
       "    <tr>\n",
       "      <th>101763</th>\n",
       "      <td>443854148</td>\n",
       "      <td>41088789</td>\n",
       "      <td>Caucasian</td>\n",
       "      <td>Male</td>\n",
       "      <td>[70-80)</td>\n",
       "      <td>?</td>\n",
       "      <td>1</td>\n",
       "      <td>1</td>\n",
       "      <td>7</td>\n",
       "      <td>1</td>\n",
       "      <td>MC</td>\n",
       "      <td>?</td>\n",
       "      <td>53</td>\n",
       "      <td>0</td>\n",
       "      <td>9</td>\n",
       "      <td>1</td>\n",
       "      <td>0</td>\n",
       "      <td>0</td>\n",
       "      <td>38</td>\n",
       "      <td>590</td>\n",
       "      <td>296</td>\n",
       "      <td>13</td>\n",
       "      <td>NaN</td>\n",
       "      <td>NaN</td>\n",
       "      <td>Steady</td>\n",
       "      <td>No</td>\n",
       "      <td>No</td>\n",
       "      <td>No</td>\n",
       "      <td>No</td>\n",
       "      <td>No</td>\n",
       "      <td>No</td>\n",
       "      <td>No</td>\n",
       "      <td>No</td>\n",
       "      <td>No</td>\n",
       "      <td>No</td>\n",
       "      <td>No</td>\n",
       "      <td>No</td>\n",
       "      <td>No</td>\n",
       "      <td>No</td>\n",
       "      <td>No</td>\n",
       "      <td>No</td>\n",
       "      <td>Down</td>\n",
       "      <td>No</td>\n",
       "      <td>No</td>\n",
       "      <td>No</td>\n",
       "      <td>No</td>\n",
       "      <td>No</td>\n",
       "      <td>Ch</td>\n",
       "      <td>Yes</td>\n",
       "      <td>NO</td>\n",
       "    </tr>\n",
       "    <tr>\n",
       "      <th>101764</th>\n",
       "      <td>443857166</td>\n",
       "      <td>31693671</td>\n",
       "      <td>Caucasian</td>\n",
       "      <td>Female</td>\n",
       "      <td>[80-90)</td>\n",
       "      <td>?</td>\n",
       "      <td>2</td>\n",
       "      <td>3</td>\n",
       "      <td>7</td>\n",
       "      <td>10</td>\n",
       "      <td>MC</td>\n",
       "      <td>Surgery-General</td>\n",
       "      <td>45</td>\n",
       "      <td>2</td>\n",
       "      <td>21</td>\n",
       "      <td>0</td>\n",
       "      <td>0</td>\n",
       "      <td>1</td>\n",
       "      <td>996</td>\n",
       "      <td>285</td>\n",
       "      <td>998</td>\n",
       "      <td>9</td>\n",
       "      <td>NaN</td>\n",
       "      <td>NaN</td>\n",
       "      <td>No</td>\n",
       "      <td>No</td>\n",
       "      <td>No</td>\n",
       "      <td>No</td>\n",
       "      <td>No</td>\n",
       "      <td>No</td>\n",
       "      <td>Steady</td>\n",
       "      <td>No</td>\n",
       "      <td>No</td>\n",
       "      <td>Steady</td>\n",
       "      <td>No</td>\n",
       "      <td>No</td>\n",
       "      <td>No</td>\n",
       "      <td>No</td>\n",
       "      <td>No</td>\n",
       "      <td>No</td>\n",
       "      <td>No</td>\n",
       "      <td>Up</td>\n",
       "      <td>No</td>\n",
       "      <td>No</td>\n",
       "      <td>No</td>\n",
       "      <td>No</td>\n",
       "      <td>No</td>\n",
       "      <td>Ch</td>\n",
       "      <td>Yes</td>\n",
       "      <td>NO</td>\n",
       "    </tr>\n",
       "    <tr>\n",
       "      <th>101765</th>\n",
       "      <td>443867222</td>\n",
       "      <td>175429310</td>\n",
       "      <td>Caucasian</td>\n",
       "      <td>Male</td>\n",
       "      <td>[70-80)</td>\n",
       "      <td>?</td>\n",
       "      <td>1</td>\n",
       "      <td>1</td>\n",
       "      <td>7</td>\n",
       "      <td>6</td>\n",
       "      <td>?</td>\n",
       "      <td>?</td>\n",
       "      <td>13</td>\n",
       "      <td>3</td>\n",
       "      <td>3</td>\n",
       "      <td>0</td>\n",
       "      <td>0</td>\n",
       "      <td>0</td>\n",
       "      <td>530</td>\n",
       "      <td>530</td>\n",
       "      <td>787</td>\n",
       "      <td>9</td>\n",
       "      <td>NaN</td>\n",
       "      <td>NaN</td>\n",
       "      <td>No</td>\n",
       "      <td>No</td>\n",
       "      <td>No</td>\n",
       "      <td>No</td>\n",
       "      <td>No</td>\n",
       "      <td>No</td>\n",
       "      <td>No</td>\n",
       "      <td>No</td>\n",
       "      <td>No</td>\n",
       "      <td>No</td>\n",
       "      <td>No</td>\n",
       "      <td>No</td>\n",
       "      <td>No</td>\n",
       "      <td>No</td>\n",
       "      <td>No</td>\n",
       "      <td>No</td>\n",
       "      <td>No</td>\n",
       "      <td>No</td>\n",
       "      <td>No</td>\n",
       "      <td>No</td>\n",
       "      <td>No</td>\n",
       "      <td>No</td>\n",
       "      <td>No</td>\n",
       "      <td>No</td>\n",
       "      <td>No</td>\n",
       "      <td>NO</td>\n",
       "    </tr>\n",
       "  </tbody>\n",
       "</table>\n",
       "</div>"
      ],
      "text/plain": [
       "        encounter_id  patient_nbr             race  gender      age weight  \\\n",
       "101761     443847548    100162476  AfricanAmerican    Male  [70-80)      ?   \n",
       "101762     443847782     74694222  AfricanAmerican  Female  [80-90)      ?   \n",
       "101763     443854148     41088789        Caucasian    Male  [70-80)      ?   \n",
       "101764     443857166     31693671        Caucasian  Female  [80-90)      ?   \n",
       "101765     443867222    175429310        Caucasian    Male  [70-80)      ?   \n",
       "\n",
       "        admission_type_id  discharge_disposition_id  admission_source_id  \\\n",
       "101761                  1                         3                    7   \n",
       "101762                  1                         4                    5   \n",
       "101763                  1                         1                    7   \n",
       "101764                  2                         3                    7   \n",
       "101765                  1                         1                    7   \n",
       "\n",
       "        time_in_hospital payer_code medical_specialty  num_lab_procedures  \\\n",
       "101761                 3         MC                 ?                  51   \n",
       "101762                 5         MC                 ?                  33   \n",
       "101763                 1         MC                 ?                  53   \n",
       "101764                10         MC   Surgery-General                  45   \n",
       "101765                 6          ?                 ?                  13   \n",
       "\n",
       "        num_procedures  num_medications  number_outpatient  number_emergency  \\\n",
       "101761               0               16                  0                 0   \n",
       "101762               3               18                  0                 0   \n",
       "101763               0                9                  1                 0   \n",
       "101764               2               21                  0                 0   \n",
       "101765               3                3                  0                 0   \n",
       "\n",
       "        number_inpatient  diag_1 diag_2 diag_3  number_diagnoses  \\\n",
       "101761                 0  250.13    291    458                 9   \n",
       "101762                 1     560    276    787                 9   \n",
       "101763                 0      38    590    296                13   \n",
       "101764                 1     996    285    998                 9   \n",
       "101765                 0     530    530    787                 9   \n",
       "\n",
       "       max_glu_serum A1Cresult metformin repaglinide nateglinide  \\\n",
       "101761           NaN        >8    Steady          No          No   \n",
       "101762           NaN       NaN        No          No          No   \n",
       "101763           NaN       NaN    Steady          No          No   \n",
       "101764           NaN       NaN        No          No          No   \n",
       "101765           NaN       NaN        No          No          No   \n",
       "\n",
       "       chlorpropamide glimepiride acetohexamide glipizide glyburide  \\\n",
       "101761             No          No            No        No        No   \n",
       "101762             No          No            No        No        No   \n",
       "101763             No          No            No        No        No   \n",
       "101764             No          No            No    Steady        No   \n",
       "101765             No          No            No        No        No   \n",
       "\n",
       "       tolbutamide pioglitazone rosiglitazone acarbose miglitol troglitazone  \\\n",
       "101761          No           No            No       No       No           No   \n",
       "101762          No           No            No       No       No           No   \n",
       "101763          No           No            No       No       No           No   \n",
       "101764          No       Steady            No       No       No           No   \n",
       "101765          No           No            No       No       No           No   \n",
       "\n",
       "       tolazamide examide citoglipton insulin glyburide-metformin  \\\n",
       "101761         No      No          No    Down                  No   \n",
       "101762         No      No          No  Steady                  No   \n",
       "101763         No      No          No    Down                  No   \n",
       "101764         No      No          No      Up                  No   \n",
       "101765         No      No          No      No                  No   \n",
       "\n",
       "       glipizide-metformin glimepiride-pioglitazone metformin-rosiglitazone  \\\n",
       "101761                  No                       No                      No   \n",
       "101762                  No                       No                      No   \n",
       "101763                  No                       No                      No   \n",
       "101764                  No                       No                      No   \n",
       "101765                  No                       No                      No   \n",
       "\n",
       "       metformin-pioglitazone change diabetesMed readmitted  \n",
       "101761                     No     Ch         Yes        >30  \n",
       "101762                     No     No         Yes         NO  \n",
       "101763                     No     Ch         Yes         NO  \n",
       "101764                     No     Ch         Yes         NO  \n",
       "101765                     No     No          No         NO  "
      ]
     },
     "execution_count": 4,
     "metadata": {},
     "output_type": "execute_result"
    }
   ],
   "source": [
    "# dataset tail\n",
    "\n",
    "df.tail()"
   ]
  },
  {
   "cell_type": "code",
   "execution_count": 5,
   "id": "8aa73488-33f7-4817-b938-e33d9ac9c068",
   "metadata": {},
   "outputs": [
    {
     "data": {
      "text/plain": [
       "(101766, 50)"
      ]
     },
     "execution_count": 5,
     "metadata": {},
     "output_type": "execute_result"
    }
   ],
   "source": [
    "# dataset shape\n",
    "\n",
    "df.shape"
   ]
  },
  {
   "cell_type": "code",
   "execution_count": 6,
   "id": "2460b180-5e00-4c60-bffb-13f78ad5aa99",
   "metadata": {},
   "outputs": [
    {
     "data": {
      "application/vnd.microsoft.datawrangler.viewer.v0+json": {
       "columns": [
        {
         "name": "index",
         "rawType": "object",
         "type": "string"
        },
        {
         "name": "encounter_id",
         "rawType": "float64",
         "type": "float"
        },
        {
         "name": "patient_nbr",
         "rawType": "float64",
         "type": "float"
        },
        {
         "name": "admission_type_id",
         "rawType": "float64",
         "type": "float"
        },
        {
         "name": "discharge_disposition_id",
         "rawType": "float64",
         "type": "float"
        },
        {
         "name": "admission_source_id",
         "rawType": "float64",
         "type": "float"
        },
        {
         "name": "time_in_hospital",
         "rawType": "float64",
         "type": "float"
        },
        {
         "name": "num_lab_procedures",
         "rawType": "float64",
         "type": "float"
        },
        {
         "name": "num_procedures",
         "rawType": "float64",
         "type": "float"
        },
        {
         "name": "num_medications",
         "rawType": "float64",
         "type": "float"
        },
        {
         "name": "number_outpatient",
         "rawType": "float64",
         "type": "float"
        },
        {
         "name": "number_emergency",
         "rawType": "float64",
         "type": "float"
        },
        {
         "name": "number_inpatient",
         "rawType": "float64",
         "type": "float"
        },
        {
         "name": "number_diagnoses",
         "rawType": "float64",
         "type": "float"
        }
       ],
       "conversionMethod": "pd.DataFrame",
       "ref": "e4d3f913-fc47-43c6-8a53-ef8d40638d34",
       "rows": [
        [
         "count",
         "100.0",
         "100.0",
         "100.0",
         "100.0",
         "100.0",
         "100.0",
         "100.0",
         "100.0",
         "100.0",
         "100.0",
         "100.0",
         "100.0",
         "100.0"
        ],
        [
         "mean",
         "174706086.18",
         "56171269.78",
         "2.07",
         "4.41",
         "5.51",
         "4.38",
         "44.58",
         "1.27",
         "16.48",
         "0.38",
         "0.06",
         "0.54",
         "7.23"
        ],
        [
         "std",
         "99171232.49533421",
         "39508706.17727197",
         "1.6033739678590526",
         "6.490233533019536",
         "3.6776557091646715",
         "2.8596107667607047",
         "18.12982363539439",
         "1.7630036353285892",
         "6.979739800076193",
         "1.212560526449311",
         "0.2777979790634141",
         "1.1229470606444913",
         "1.8026635736032277"
        ],
        [
         "min",
         "3185130.0",
         "254259.0",
         "1.0",
         "1.0",
         "1.0",
         "1.0",
         "1.0",
         "0.0",
         "4.0",
         "0.0",
         "0.0",
         "0.0",
         "2.0"
        ],
        [
         "25%",
         "96473230.5",
         "24634311.75",
         "1.0",
         "1.0",
         "1.0",
         "2.0",
         "33.75",
         "0.0",
         "11.0",
         "0.0",
         "0.0",
         "0.0",
         "6.0"
        ],
        [
         "50%",
         "160477662.0",
         "44854218.0",
         "1.0",
         "1.0",
         "7.0",
         "4.0",
         "46.0",
         "0.0",
         "16.0",
         "0.0",
         "0.0",
         "0.0",
         "8.0"
        ],
        [
         "75%",
         "237647079.0",
         "85170683.25",
         "3.0",
         "6.0",
         "7.0",
         "5.25",
         "58.0",
         "2.0",
         "21.0",
         "0.0",
         "0.0",
         "1.0",
         "9.0"
        ],
        [
         "max",
         "437398826.0",
         "182630435.0",
         "8.0",
         "28.0",
         "20.0",
         "14.0",
         "98.0",
         "6.0",
         "37.0",
         "9.0",
         "2.0",
         "8.0",
         "9.0"
        ]
       ],
       "shape": {
        "columns": 13,
        "rows": 8
       }
      },
      "text/html": [
       "<div>\n",
       "<style scoped>\n",
       "    .dataframe tbody tr th:only-of-type {\n",
       "        vertical-align: middle;\n",
       "    }\n",
       "\n",
       "    .dataframe tbody tr th {\n",
       "        vertical-align: top;\n",
       "    }\n",
       "\n",
       "    .dataframe thead th {\n",
       "        text-align: right;\n",
       "    }\n",
       "</style>\n",
       "<table border=\"1\" class=\"dataframe\">\n",
       "  <thead>\n",
       "    <tr style=\"text-align: right;\">\n",
       "      <th></th>\n",
       "      <th>encounter_id</th>\n",
       "      <th>patient_nbr</th>\n",
       "      <th>admission_type_id</th>\n",
       "      <th>discharge_disposition_id</th>\n",
       "      <th>admission_source_id</th>\n",
       "      <th>time_in_hospital</th>\n",
       "      <th>num_lab_procedures</th>\n",
       "      <th>num_procedures</th>\n",
       "      <th>num_medications</th>\n",
       "      <th>number_outpatient</th>\n",
       "      <th>number_emergency</th>\n",
       "      <th>number_inpatient</th>\n",
       "      <th>number_diagnoses</th>\n",
       "    </tr>\n",
       "  </thead>\n",
       "  <tbody>\n",
       "    <tr>\n",
       "      <th>count</th>\n",
       "      <td>1.000000e+02</td>\n",
       "      <td>1.000000e+02</td>\n",
       "      <td>100.000000</td>\n",
       "      <td>100.000000</td>\n",
       "      <td>100.000000</td>\n",
       "      <td>100.000000</td>\n",
       "      <td>100.000000</td>\n",
       "      <td>100.000000</td>\n",
       "      <td>100.00000</td>\n",
       "      <td>100.000000</td>\n",
       "      <td>100.000000</td>\n",
       "      <td>100.000000</td>\n",
       "      <td>100.000000</td>\n",
       "    </tr>\n",
       "    <tr>\n",
       "      <th>mean</th>\n",
       "      <td>1.747061e+08</td>\n",
       "      <td>5.617127e+07</td>\n",
       "      <td>2.070000</td>\n",
       "      <td>4.410000</td>\n",
       "      <td>5.510000</td>\n",
       "      <td>4.380000</td>\n",
       "      <td>44.580000</td>\n",
       "      <td>1.270000</td>\n",
       "      <td>16.48000</td>\n",
       "      <td>0.380000</td>\n",
       "      <td>0.060000</td>\n",
       "      <td>0.540000</td>\n",
       "      <td>7.230000</td>\n",
       "    </tr>\n",
       "    <tr>\n",
       "      <th>std</th>\n",
       "      <td>9.917123e+07</td>\n",
       "      <td>3.950871e+07</td>\n",
       "      <td>1.603374</td>\n",
       "      <td>6.490234</td>\n",
       "      <td>3.677656</td>\n",
       "      <td>2.859611</td>\n",
       "      <td>18.129824</td>\n",
       "      <td>1.763004</td>\n",
       "      <td>6.97974</td>\n",
       "      <td>1.212561</td>\n",
       "      <td>0.277798</td>\n",
       "      <td>1.122947</td>\n",
       "      <td>1.802664</td>\n",
       "    </tr>\n",
       "    <tr>\n",
       "      <th>min</th>\n",
       "      <td>3.185130e+06</td>\n",
       "      <td>2.542590e+05</td>\n",
       "      <td>1.000000</td>\n",
       "      <td>1.000000</td>\n",
       "      <td>1.000000</td>\n",
       "      <td>1.000000</td>\n",
       "      <td>1.000000</td>\n",
       "      <td>0.000000</td>\n",
       "      <td>4.00000</td>\n",
       "      <td>0.000000</td>\n",
       "      <td>0.000000</td>\n",
       "      <td>0.000000</td>\n",
       "      <td>2.000000</td>\n",
       "    </tr>\n",
       "    <tr>\n",
       "      <th>25%</th>\n",
       "      <td>9.647323e+07</td>\n",
       "      <td>2.463431e+07</td>\n",
       "      <td>1.000000</td>\n",
       "      <td>1.000000</td>\n",
       "      <td>1.000000</td>\n",
       "      <td>2.000000</td>\n",
       "      <td>33.750000</td>\n",
       "      <td>0.000000</td>\n",
       "      <td>11.00000</td>\n",
       "      <td>0.000000</td>\n",
       "      <td>0.000000</td>\n",
       "      <td>0.000000</td>\n",
       "      <td>6.000000</td>\n",
       "    </tr>\n",
       "    <tr>\n",
       "      <th>50%</th>\n",
       "      <td>1.604777e+08</td>\n",
       "      <td>4.485422e+07</td>\n",
       "      <td>1.000000</td>\n",
       "      <td>1.000000</td>\n",
       "      <td>7.000000</td>\n",
       "      <td>4.000000</td>\n",
       "      <td>46.000000</td>\n",
       "      <td>0.000000</td>\n",
       "      <td>16.00000</td>\n",
       "      <td>0.000000</td>\n",
       "      <td>0.000000</td>\n",
       "      <td>0.000000</td>\n",
       "      <td>8.000000</td>\n",
       "    </tr>\n",
       "    <tr>\n",
       "      <th>75%</th>\n",
       "      <td>2.376471e+08</td>\n",
       "      <td>8.517068e+07</td>\n",
       "      <td>3.000000</td>\n",
       "      <td>6.000000</td>\n",
       "      <td>7.000000</td>\n",
       "      <td>5.250000</td>\n",
       "      <td>58.000000</td>\n",
       "      <td>2.000000</td>\n",
       "      <td>21.00000</td>\n",
       "      <td>0.000000</td>\n",
       "      <td>0.000000</td>\n",
       "      <td>1.000000</td>\n",
       "      <td>9.000000</td>\n",
       "    </tr>\n",
       "    <tr>\n",
       "      <th>max</th>\n",
       "      <td>4.373988e+08</td>\n",
       "      <td>1.826304e+08</td>\n",
       "      <td>8.000000</td>\n",
       "      <td>28.000000</td>\n",
       "      <td>20.000000</td>\n",
       "      <td>14.000000</td>\n",
       "      <td>98.000000</td>\n",
       "      <td>6.000000</td>\n",
       "      <td>37.00000</td>\n",
       "      <td>9.000000</td>\n",
       "      <td>2.000000</td>\n",
       "      <td>8.000000</td>\n",
       "      <td>9.000000</td>\n",
       "    </tr>\n",
       "  </tbody>\n",
       "</table>\n",
       "</div>"
      ],
      "text/plain": [
       "       encounter_id   patient_nbr  admission_type_id  \\\n",
       "count  1.000000e+02  1.000000e+02         100.000000   \n",
       "mean   1.747061e+08  5.617127e+07           2.070000   \n",
       "std    9.917123e+07  3.950871e+07           1.603374   \n",
       "min    3.185130e+06  2.542590e+05           1.000000   \n",
       "25%    9.647323e+07  2.463431e+07           1.000000   \n",
       "50%    1.604777e+08  4.485422e+07           1.000000   \n",
       "75%    2.376471e+08  8.517068e+07           3.000000   \n",
       "max    4.373988e+08  1.826304e+08           8.000000   \n",
       "\n",
       "       discharge_disposition_id  admission_source_id  time_in_hospital  \\\n",
       "count                100.000000           100.000000        100.000000   \n",
       "mean                   4.410000             5.510000          4.380000   \n",
       "std                    6.490234             3.677656          2.859611   \n",
       "min                    1.000000             1.000000          1.000000   \n",
       "25%                    1.000000             1.000000          2.000000   \n",
       "50%                    1.000000             7.000000          4.000000   \n",
       "75%                    6.000000             7.000000          5.250000   \n",
       "max                   28.000000            20.000000         14.000000   \n",
       "\n",
       "       num_lab_procedures  num_procedures  num_medications  number_outpatient  \\\n",
       "count          100.000000      100.000000        100.00000         100.000000   \n",
       "mean            44.580000        1.270000         16.48000           0.380000   \n",
       "std             18.129824        1.763004          6.97974           1.212561   \n",
       "min              1.000000        0.000000          4.00000           0.000000   \n",
       "25%             33.750000        0.000000         11.00000           0.000000   \n",
       "50%             46.000000        0.000000         16.00000           0.000000   \n",
       "75%             58.000000        2.000000         21.00000           0.000000   \n",
       "max             98.000000        6.000000         37.00000           9.000000   \n",
       "\n",
       "       number_emergency  number_inpatient  number_diagnoses  \n",
       "count        100.000000        100.000000        100.000000  \n",
       "mean           0.060000          0.540000          7.230000  \n",
       "std            0.277798          1.122947          1.802664  \n",
       "min            0.000000          0.000000          2.000000  \n",
       "25%            0.000000          0.000000          6.000000  \n",
       "50%            0.000000          0.000000          8.000000  \n",
       "75%            0.000000          1.000000          9.000000  \n",
       "max            2.000000          8.000000          9.000000  "
      ]
     },
     "execution_count": 6,
     "metadata": {},
     "output_type": "execute_result"
    }
   ],
   "source": [
    "# stat of random sample of 100 from the dataset\n",
    "\n",
    "df.sample(100).describe()"
   ]
  },
  {
   "cell_type": "markdown",
   "id": "94ed8989",
   "metadata": {},
   "source": [
    "# Data Cleaning"
   ]
  },
  {
   "cell_type": "code",
   "execution_count": 7,
   "id": "3c4888c5-03ee-4a54-aa44-955f145e8938",
   "metadata": {},
   "outputs": [
    {
     "data": {
      "text/plain": [
       "encounter_id                    0\n",
       "patient_nbr                     0\n",
       "race                            0\n",
       "gender                          0\n",
       "age                             0\n",
       "weight                          0\n",
       "admission_type_id               0\n",
       "discharge_disposition_id        0\n",
       "admission_source_id             0\n",
       "time_in_hospital                0\n",
       "payer_code                      0\n",
       "medical_specialty               0\n",
       "num_lab_procedures              0\n",
       "num_procedures                  0\n",
       "num_medications                 0\n",
       "number_outpatient               0\n",
       "number_emergency                0\n",
       "number_inpatient                0\n",
       "diag_1                          0\n",
       "diag_2                          0\n",
       "diag_3                          0\n",
       "number_diagnoses                0\n",
       "max_glu_serum               96420\n",
       "A1Cresult                   84748\n",
       "metformin                       0\n",
       "repaglinide                     0\n",
       "nateglinide                     0\n",
       "chlorpropamide                  0\n",
       "glimepiride                     0\n",
       "acetohexamide                   0\n",
       "glipizide                       0\n",
       "glyburide                       0\n",
       "tolbutamide                     0\n",
       "pioglitazone                    0\n",
       "rosiglitazone                   0\n",
       "acarbose                        0\n",
       "miglitol                        0\n",
       "troglitazone                    0\n",
       "tolazamide                      0\n",
       "examide                         0\n",
       "citoglipton                     0\n",
       "insulin                         0\n",
       "glyburide-metformin             0\n",
       "glipizide-metformin             0\n",
       "glimepiride-pioglitazone        0\n",
       "metformin-rosiglitazone         0\n",
       "metformin-pioglitazone          0\n",
       "change                          0\n",
       "diabetesMed                     0\n",
       "readmitted                      0\n",
       "dtype: int64"
      ]
     },
     "execution_count": 7,
     "metadata": {},
     "output_type": "execute_result"
    }
   ],
   "source": [
    "# finding the sum of the null values from the dataset\n",
    "df.isnull().sum()"
   ]
  },
  {
   "cell_type": "code",
   "execution_count": 8,
   "id": "b05833e6-b0b2-423f-a33f-e687439f0284",
   "metadata": {},
   "outputs": [
    {
     "data": {
      "text/plain": [
       "Index(['encounter_id', 'patient_nbr', 'race', 'gender', 'age', 'weight',\n",
       "       'admission_type_id', 'discharge_disposition_id', 'admission_source_id',\n",
       "       'time_in_hospital', 'payer_code', 'medical_specialty',\n",
       "       'num_lab_procedures', 'num_procedures', 'num_medications',\n",
       "       'number_outpatient', 'number_emergency', 'number_inpatient', 'diag_1',\n",
       "       'diag_2', 'diag_3', 'number_diagnoses', 'max_glu_serum', 'A1Cresult',\n",
       "       'metformin', 'repaglinide', 'nateglinide', 'chlorpropamide',\n",
       "       'glimepiride', 'acetohexamide', 'glipizide', 'glyburide', 'tolbutamide',\n",
       "       'pioglitazone', 'rosiglitazone', 'acarbose', 'miglitol', 'troglitazone',\n",
       "       'tolazamide', 'examide', 'citoglipton', 'insulin',\n",
       "       'glyburide-metformin', 'glipizide-metformin',\n",
       "       'glimepiride-pioglitazone', 'metformin-rosiglitazone',\n",
       "       'metformin-pioglitazone', 'change', 'diabetesMed', 'readmitted'],\n",
       "      dtype='object')"
      ]
     },
     "execution_count": 8,
     "metadata": {},
     "output_type": "execute_result"
    }
   ],
   "source": [
    "# all 50 columns from the dataset\n",
    "df.columns"
   ]
  },
  {
   "cell_type": "code",
   "execution_count": 9,
   "id": "bc0edf1f-1613-4a30-8e89-0ae31db4b276",
   "metadata": {},
   "outputs": [],
   "source": [
    "# creating the new dataset\n",
    "df2 = df[['race', 'gender', 'age', 'time_in_hospital', 'diabetesMed', 'readmitted']]"
   ]
  },
  {
   "cell_type": "code",
   "execution_count": 10,
   "id": "b8abdf46",
   "metadata": {},
   "outputs": [
    {
     "data": {
      "text/plain": [
       "(101766, 6)"
      ]
     },
     "execution_count": 10,
     "metadata": {},
     "output_type": "execute_result"
    }
   ],
   "source": [
    "df2.shape"
   ]
  },
  {
   "cell_type": "markdown",
   "id": "a5551548",
   "metadata": {},
   "source": [
    "# Exploratory Data Analysis"
   ]
  },
  {
   "cell_type": "code",
   "execution_count": 11,
   "id": "6b36c0f1-7548-4f69-a5da-35a32fe501f7",
   "metadata": {},
   "outputs": [
    {
     "data": {
      "application/vnd.microsoft.datawrangler.viewer.v0+json": {
       "columns": [
        {
         "name": "index",
         "rawType": "int64",
         "type": "integer"
        },
        {
         "name": "race",
         "rawType": "object",
         "type": "string"
        },
        {
         "name": "gender",
         "rawType": "object",
         "type": "string"
        },
        {
         "name": "age",
         "rawType": "object",
         "type": "string"
        },
        {
         "name": "time_in_hospital",
         "rawType": "int64",
         "type": "integer"
        },
        {
         "name": "diabetesMed",
         "rawType": "object",
         "type": "string"
        },
        {
         "name": "readmitted",
         "rawType": "object",
         "type": "string"
        }
       ],
       "conversionMethod": "pd.DataFrame",
       "ref": "58841aa0-80ea-48bf-80e8-8ff53f71bdbb",
       "rows": [
        [
         "0",
         "Caucasian",
         "Female",
         "[0-10)",
         "1",
         "No",
         "NO"
        ],
        [
         "1",
         "Caucasian",
         "Female",
         "[10-20)",
         "3",
         "Yes",
         ">30"
        ],
        [
         "2",
         "AfricanAmerican",
         "Female",
         "[20-30)",
         "2",
         "Yes",
         "NO"
        ],
        [
         "3",
         "Caucasian",
         "Male",
         "[30-40)",
         "2",
         "Yes",
         "NO"
        ],
        [
         "4",
         "Caucasian",
         "Male",
         "[40-50)",
         "1",
         "Yes",
         "NO"
        ]
       ],
       "shape": {
        "columns": 6,
        "rows": 5
       }
      },
      "text/html": [
       "<div>\n",
       "<style scoped>\n",
       "    .dataframe tbody tr th:only-of-type {\n",
       "        vertical-align: middle;\n",
       "    }\n",
       "\n",
       "    .dataframe tbody tr th {\n",
       "        vertical-align: top;\n",
       "    }\n",
       "\n",
       "    .dataframe thead th {\n",
       "        text-align: right;\n",
       "    }\n",
       "</style>\n",
       "<table border=\"1\" class=\"dataframe\">\n",
       "  <thead>\n",
       "    <tr style=\"text-align: right;\">\n",
       "      <th></th>\n",
       "      <th>race</th>\n",
       "      <th>gender</th>\n",
       "      <th>age</th>\n",
       "      <th>time_in_hospital</th>\n",
       "      <th>diabetesMed</th>\n",
       "      <th>readmitted</th>\n",
       "    </tr>\n",
       "  </thead>\n",
       "  <tbody>\n",
       "    <tr>\n",
       "      <th>0</th>\n",
       "      <td>Caucasian</td>\n",
       "      <td>Female</td>\n",
       "      <td>[0-10)</td>\n",
       "      <td>1</td>\n",
       "      <td>No</td>\n",
       "      <td>NO</td>\n",
       "    </tr>\n",
       "    <tr>\n",
       "      <th>1</th>\n",
       "      <td>Caucasian</td>\n",
       "      <td>Female</td>\n",
       "      <td>[10-20)</td>\n",
       "      <td>3</td>\n",
       "      <td>Yes</td>\n",
       "      <td>&gt;30</td>\n",
       "    </tr>\n",
       "    <tr>\n",
       "      <th>2</th>\n",
       "      <td>AfricanAmerican</td>\n",
       "      <td>Female</td>\n",
       "      <td>[20-30)</td>\n",
       "      <td>2</td>\n",
       "      <td>Yes</td>\n",
       "      <td>NO</td>\n",
       "    </tr>\n",
       "    <tr>\n",
       "      <th>3</th>\n",
       "      <td>Caucasian</td>\n",
       "      <td>Male</td>\n",
       "      <td>[30-40)</td>\n",
       "      <td>2</td>\n",
       "      <td>Yes</td>\n",
       "      <td>NO</td>\n",
       "    </tr>\n",
       "    <tr>\n",
       "      <th>4</th>\n",
       "      <td>Caucasian</td>\n",
       "      <td>Male</td>\n",
       "      <td>[40-50)</td>\n",
       "      <td>1</td>\n",
       "      <td>Yes</td>\n",
       "      <td>NO</td>\n",
       "    </tr>\n",
       "  </tbody>\n",
       "</table>\n",
       "</div>"
      ],
      "text/plain": [
       "              race  gender      age  time_in_hospital diabetesMed readmitted\n",
       "0        Caucasian  Female   [0-10)                 1          No         NO\n",
       "1        Caucasian  Female  [10-20)                 3         Yes        >30\n",
       "2  AfricanAmerican  Female  [20-30)                 2         Yes         NO\n",
       "3        Caucasian    Male  [30-40)                 2         Yes         NO\n",
       "4        Caucasian    Male  [40-50)                 1         Yes         NO"
      ]
     },
     "execution_count": 11,
     "metadata": {},
     "output_type": "execute_result"
    }
   ],
   "source": [
    "df2.head()"
   ]
  },
  {
   "cell_type": "code",
   "execution_count": 12,
   "id": "33660ad2-6914-4f36-af02-916156f989c3",
   "metadata": {},
   "outputs": [
    {
     "data": {
      "text/plain": [
       "diabetesMed\n",
       "Yes    78363\n",
       "No     23403\n",
       "Name: count, dtype: int64"
      ]
     },
     "execution_count": 12,
     "metadata": {},
     "output_type": "execute_result"
    }
   ],
   "source": [
    "# number of patient either taking or not taking diabetes meds \n",
    "df2['diabetesMed'].value_counts()"
   ]
  },
  {
   "cell_type": "code",
   "execution_count": 13,
   "id": "41a9475d-c0da-4621-914c-a36f0964794d",
   "metadata": {},
   "outputs": [
    {
     "data": {
      "text/plain": [
       "readmitted\n",
       "NO     54864\n",
       ">30    35545\n",
       "<30    11357\n",
       "Name: count, dtype: int64"
      ]
     },
     "execution_count": 13,
     "metadata": {},
     "output_type": "execute_result"
    }
   ],
   "source": [
    "# finding the number of patients in each readmission categories\n",
    "df2['readmitted'].value_counts()"
   ]
  },
  {
   "cell_type": "code",
   "execution_count": 14,
   "id": "9c4ec7dd-3f77-4914-9c81-28ad21be8674",
   "metadata": {},
   "outputs": [
    {
     "name": "stdout",
     "output_type": "stream",
     "text": [
      "Readmission rate for less than 30 days: 11.16\n"
     ]
    }
   ],
   "source": [
    "# total number of patient\n",
    "total_patient = df.shape[0]\n",
    "\n",
    "# patient that got readmitted within 30 days \n",
    "readmitted_30 = df2[df2['readmitted'] == '<30'].shape[0]\n",
    "\n",
    "# calculate the readmission rate\n",
    "readmission_rate_30 = readmitted_30 / total_patient * 100 \n",
    "\n",
    "print(f'Readmission rate for less than 30 days: {readmission_rate_30:.2f}')\n",
    "\n",
    "\n",
    "\n",
    "\n"
   ]
  },
  {
   "cell_type": "code",
   "execution_count": 15,
   "id": "b8092c22",
   "metadata": {},
   "outputs": [
    {
     "name": "stdout",
     "output_type": "stream",
     "text": [
      "Readmission rate after than 30 days: 34.93\n"
     ]
    }
   ],
   "source": [
    "# finfing the readmission rates for when the patient comes in after 30 days \n",
    "readm_more_30 = df2[df2['readmitted']== '>30'].shape[0]\n",
    "\n",
    "read_rate_more_30 = readm_more_30 / total_patient * 100\n",
    "\n",
    "print(f'Readmission rate after than 30 days: {read_rate_more_30:.2f}')\n"
   ]
  },
  {
   "cell_type": "code",
   "execution_count": 16,
   "id": "fc388640",
   "metadata": {},
   "outputs": [
    {
     "name": "stdout",
     "output_type": "stream",
     "text": [
      "readmitted        <30       >30        NO\n",
      "diabetesMed                              \n",
      "No           0.095971  0.308807  0.595223\n",
      "Yes          0.116267  0.361370  0.522364\n"
     ]
    }
   ],
   "source": [
    "# finding the connection between the diabetic meds pres and the reamission witin 30 days \n",
    "\n",
    "readmit_vs_meds = pd.crosstab(df2['diabetesMed'], df2['readmitted'], normalize='index')\n",
    "print(readmit_vs_meds)"
   ]
  },
  {
   "cell_type": "code",
   "execution_count": 17,
   "id": "a76049f7",
   "metadata": {},
   "outputs": [
    {
     "data": {
      "image/png": "[encoded data removed]",
      "text/plain": [
       "<Figure size 640x480 with 1 Axes>"
      ]
     },
     "metadata": {},
     "output_type": "display_data"
    }
   ],
   "source": [
    "sns.countplot(x='diabetesMed', hue='readmitted', data = df2)\n",
    "plt.title('Reamdission Rate by Diabetes Medication')\n",
    "plt.ylabel('Number of Patients')\n",
    "plt.show()\n"
   ]
  },
  {
   "cell_type": "markdown",
   "id": "63ca666b",
   "metadata": {},
   "source": [
    "This graph does show unusual pattern where the patient taking diabetes meds are more likely to come back within 30 days. One thing that can explain such trend is the the patient that are taking medication might have a more severe case of diabetes. The patient that do not have a severe case of diabetes might not need to take medication and they also might not get readmitted for said reasons. "
   ]
  },
  {
   "cell_type": "code",
   "execution_count": 18,
   "id": "c4a19084",
   "metadata": {},
   "outputs": [
    {
     "name": "stdout",
     "output_type": "stream",
     "text": [
      "diabetesMed        No       Yes\n",
      "age                            \n",
      "[0-10)       0.173913  0.826087\n",
      "[10-20)      0.131693  0.868307\n",
      "[20-30)      0.206397  0.793603\n",
      "[30-40)      0.245298  0.754702\n",
      "[40-50)      0.235416  0.764584\n",
      "[50-60)      0.223401  0.776599\n",
      "[60-70)      0.216697  0.783303\n",
      "[70-80)      0.225449  0.774551\n",
      "[80-90)      0.249055  0.750945\n",
      "[90-100)     0.303974  0.696026\n"
     ]
    }
   ],
   "source": [
    "# finding the connection between the diabetic meds pres and the reamission witin 30 days \n",
    "\n",
    "readmit_vs_meds = pd.crosstab(df2['age'], df2['diabetesMed'], normalize='index')\n",
    "print(readmit_vs_meds)"
   ]
  },
  {
   "cell_type": "code",
   "execution_count": 19,
   "id": "78f94b06",
   "metadata": {},
   "outputs": [
    {
     "data": {
      "image/png": "[encoded data removed]",
      "text/plain": [
       "<Figure size 640x480 with 1 Axes>"
      ]
     },
     "metadata": {},
     "output_type": "display_data"
    }
   ],
   "source": [
    "sns.countplot(x='age', hue='diabetesMed', data = df2)\n",
    "plt.title('Diabetes Meds prescribed to each age group')\n",
    "plt.ylabel('Number of Patients')\n",
    "plt.xticks(rotation = 45)\n",
    "plt.show()\n"
   ]
  },
  {
   "cell_type": "markdown",
   "id": "5f83fecf",
   "metadata": {},
   "source": [
    "This shows that the older you get the patiet get older they are prescirbed the medication for their diabetes. \n",
    "But additionally we need to find out the age of patient that are coming back in <30 days  "
   ]
  },
  {
   "cell_type": "code",
   "execution_count": 20,
   "id": "ee4c7b31",
   "metadata": {},
   "outputs": [
    {
     "name": "stdout",
     "output_type": "stream",
     "text": [
      "readmitted       <30       >30        NO\n",
      "age                                     \n",
      "[0-10)      0.018634  0.161491  0.819876\n",
      "[10-20)     0.057887  0.324168  0.617945\n",
      "[20-30)     0.142426  0.307785  0.549789\n",
      "[30-40)     0.112318  0.314437  0.573245\n",
      "[40-50)     0.106040  0.338462  0.555498\n",
      "[50-60)     0.096662  0.342895  0.560443\n",
      "[60-70)     0.111284  0.351243  0.537473\n",
      "[70-80)     0.117731  0.363472  0.518797\n",
      "[80-90)     0.120835  0.361865  0.517300\n",
      "[90-100)    0.110992  0.289295  0.599714\n"
     ]
    }
   ],
   "source": [
    "\n",
    "\n",
    "readmit_vs_meds = pd.crosstab(df2['age'], df2['readmitted'], normalize='index')\n",
    "print(readmit_vs_meds)"
   ]
  },
  {
   "cell_type": "code",
   "execution_count": 21,
   "id": "045f4aae",
   "metadata": {},
   "outputs": [
    {
     "data": {
      "image/png": "[encoded data removed]",
      "text/plain": [
       "<Figure size 640x480 with 1 Axes>"
      ]
     },
     "metadata": {},
     "output_type": "display_data"
    }
   ],
   "source": [
    "sns.countplot(x='age', hue='readmitted', data = df2)\n",
    "plt.title('Age group which are coming back within 30 days.')\n",
    "plt.ylabel('Number of Patients')\n",
    "plt.xlabel('Age')\n",
    "plt.xticks(rotation = 45)\n",
    "plt.show()\n",
    "\n"
   ]
  },
  {
   "cell_type": "markdown",
   "id": "0b14c6ed",
   "metadata": {},
   "source": [
    "Now we get more clear picture that the patient that are presvribe and also the patient coming back are (70 to 80) year old group. This shows how the patient from this age group are suffering from severe case of diabetes. This supports our claim above where we find patient coming back are those taking the medication. \n"
   ]
  },
  {
   "cell_type": "markdown",
   "id": "2486dac7",
   "metadata": {},
   "source": [
    "we are seeing the same trend that patient from the age group 70 to 80 are the ones that comeback to hospitals within 30 days because of their diabetes.  "
   ]
  },
  {
   "cell_type": "code",
   "execution_count": 22,
   "id": "e2616c08",
   "metadata": {},
   "outputs": [
    {
     "data": {
      "application/vnd.microsoft.datawrangler.viewer.v0+json": {
       "columns": [
        {
         "name": "index",
         "rawType": "int64",
         "type": "integer"
        },
        {
         "name": "race",
         "rawType": "object",
         "type": "string"
        },
        {
         "name": "gender",
         "rawType": "object",
         "type": "string"
        },
        {
         "name": "age",
         "rawType": "object",
         "type": "string"
        },
        {
         "name": "time_in_hospital",
         "rawType": "int64",
         "type": "integer"
        },
        {
         "name": "diabetesMed",
         "rawType": "object",
         "type": "string"
        },
        {
         "name": "readmitted",
         "rawType": "object",
         "type": "string"
        }
       ],
       "conversionMethod": "pd.DataFrame",
       "ref": "c27eec0e-7dd0-4de0-b339-669ee8141186",
       "rows": [
        [
         "0",
         "Caucasian",
         "Female",
         "[0-10)",
         "1",
         "No",
         "NO"
        ],
        [
         "1",
         "Caucasian",
         "Female",
         "[10-20)",
         "3",
         "Yes",
         ">30"
        ],
        [
         "2",
         "AfricanAmerican",
         "Female",
         "[20-30)",
         "2",
         "Yes",
         "NO"
        ],
        [
         "3",
         "Caucasian",
         "Male",
         "[30-40)",
         "2",
         "Yes",
         "NO"
        ],
        [
         "4",
         "Caucasian",
         "Male",
         "[40-50)",
         "1",
         "Yes",
         "NO"
        ],
        [
         "5",
         "Caucasian",
         "Male",
         "[50-60)",
         "3",
         "Yes",
         ">30"
        ],
        [
         "6",
         "Caucasian",
         "Male",
         "[60-70)",
         "4",
         "Yes",
         "NO"
        ],
        [
         "7",
         "Caucasian",
         "Male",
         "[70-80)",
         "5",
         "Yes",
         ">30"
        ],
        [
         "8",
         "Caucasian",
         "Female",
         "[80-90)",
         "13",
         "Yes",
         "NO"
        ],
        [
         "9",
         "Caucasian",
         "Female",
         "[90-100)",
         "12",
         "Yes",
         "NO"
        ]
       ],
       "shape": {
        "columns": 6,
        "rows": 10
       }
      },
      "text/html": [
       "<div>\n",
       "<style scoped>\n",
       "    .dataframe tbody tr th:only-of-type {\n",
       "        vertical-align: middle;\n",
       "    }\n",
       "\n",
       "    .dataframe tbody tr th {\n",
       "        vertical-align: top;\n",
       "    }\n",
       "\n",
       "    .dataframe thead th {\n",
       "        text-align: right;\n",
       "    }\n",
       "</style>\n",
       "<table border=\"1\" class=\"dataframe\">\n",
       "  <thead>\n",
       "    <tr style=\"text-align: right;\">\n",
       "      <th></th>\n",
       "      <th>race</th>\n",
       "      <th>gender</th>\n",
       "      <th>age</th>\n",
       "      <th>time_in_hospital</th>\n",
       "      <th>diabetesMed</th>\n",
       "      <th>readmitted</th>\n",
       "    </tr>\n",
       "  </thead>\n",
       "  <tbody>\n",
       "    <tr>\n",
       "      <th>0</th>\n",
       "      <td>Caucasian</td>\n",
       "      <td>Female</td>\n",
       "      <td>[0-10)</td>\n",
       "      <td>1</td>\n",
       "      <td>No</td>\n",
       "      <td>NO</td>\n",
       "    </tr>\n",
       "    <tr>\n",
       "      <th>1</th>\n",
       "      <td>Caucasian</td>\n",
       "      <td>Female</td>\n",
       "      <td>[10-20)</td>\n",
       "      <td>3</td>\n",
       "      <td>Yes</td>\n",
       "      <td>&gt;30</td>\n",
       "    </tr>\n",
       "    <tr>\n",
       "      <th>2</th>\n",
       "      <td>AfricanAmerican</td>\n",
       "      <td>Female</td>\n",
       "      <td>[20-30)</td>\n",
       "      <td>2</td>\n",
       "      <td>Yes</td>\n",
       "      <td>NO</td>\n",
       "    </tr>\n",
       "    <tr>\n",
       "      <th>3</th>\n",
       "      <td>Caucasian</td>\n",
       "      <td>Male</td>\n",
       "      <td>[30-40)</td>\n",
       "      <td>2</td>\n",
       "      <td>Yes</td>\n",
       "      <td>NO</td>\n",
       "    </tr>\n",
       "    <tr>\n",
       "      <th>4</th>\n",
       "      <td>Caucasian</td>\n",
       "      <td>Male</td>\n",
       "      <td>[40-50)</td>\n",
       "      <td>1</td>\n",
       "      <td>Yes</td>\n",
       "      <td>NO</td>\n",
       "    </tr>\n",
       "    <tr>\n",
       "      <th>5</th>\n",
       "      <td>Caucasian</td>\n",
       "      <td>Male</td>\n",
       "      <td>[50-60)</td>\n",
       "      <td>3</td>\n",
       "      <td>Yes</td>\n",
       "      <td>&gt;30</td>\n",
       "    </tr>\n",
       "    <tr>\n",
       "      <th>6</th>\n",
       "      <td>Caucasian</td>\n",
       "      <td>Male</td>\n",
       "      <td>[60-70)</td>\n",
       "      <td>4</td>\n",
       "      <td>Yes</td>\n",
       "      <td>NO</td>\n",
       "    </tr>\n",
       "    <tr>\n",
       "      <th>7</th>\n",
       "      <td>Caucasian</td>\n",
       "      <td>Male</td>\n",
       "      <td>[70-80)</td>\n",
       "      <td>5</td>\n",
       "      <td>Yes</td>\n",
       "      <td>&gt;30</td>\n",
       "    </tr>\n",
       "    <tr>\n",
       "      <th>8</th>\n",
       "      <td>Caucasian</td>\n",
       "      <td>Female</td>\n",
       "      <td>[80-90)</td>\n",
       "      <td>13</td>\n",
       "      <td>Yes</td>\n",
       "      <td>NO</td>\n",
       "    </tr>\n",
       "    <tr>\n",
       "      <th>9</th>\n",
       "      <td>Caucasian</td>\n",
       "      <td>Female</td>\n",
       "      <td>[90-100)</td>\n",
       "      <td>12</td>\n",
       "      <td>Yes</td>\n",
       "      <td>NO</td>\n",
       "    </tr>\n",
       "  </tbody>\n",
       "</table>\n",
       "</div>"
      ],
      "text/plain": [
       "              race  gender       age  time_in_hospital diabetesMed readmitted\n",
       "0        Caucasian  Female    [0-10)                 1          No         NO\n",
       "1        Caucasian  Female   [10-20)                 3         Yes        >30\n",
       "2  AfricanAmerican  Female   [20-30)                 2         Yes         NO\n",
       "3        Caucasian    Male   [30-40)                 2         Yes         NO\n",
       "4        Caucasian    Male   [40-50)                 1         Yes         NO\n",
       "5        Caucasian    Male   [50-60)                 3         Yes        >30\n",
       "6        Caucasian    Male   [60-70)                 4         Yes         NO\n",
       "7        Caucasian    Male   [70-80)                 5         Yes        >30\n",
       "8        Caucasian  Female   [80-90)                13         Yes         NO\n",
       "9        Caucasian  Female  [90-100)                12         Yes         NO"
      ]
     },
     "execution_count": 22,
     "metadata": {},
     "output_type": "execute_result"
    }
   ],
   "source": [
    "df2.head(10)"
   ]
  },
  {
   "cell_type": "code",
   "execution_count": 23,
   "id": "bb354ac1",
   "metadata": {},
   "outputs": [
    {
     "name": "stdout",
     "output_type": "stream",
     "text": [
      "time_in_hospital        1         2         3         4         5         6   \\\n",
      "race                                                                           \n",
      "?                 0.145183  0.168500  0.182138  0.140343  0.089309  0.076111   \n",
      "AfricanAmerican   0.131338  0.172670  0.165955  0.133420  0.099948  0.074857   \n",
      "Asian             0.195008  0.198128  0.156006  0.124805  0.081123  0.068643   \n",
      "Caucasian         0.139976  0.167453  0.176323  0.138018  0.098070  0.074390   \n",
      "Hispanic          0.155621  0.200295  0.178694  0.129111  0.098675  0.069710   \n",
      "Other             0.173307  0.163347  0.180611  0.130146  0.084329  0.053785   \n",
      "\n",
      "time_in_hospital        7         8         9         10        11        12  \\\n",
      "race                                                                           \n",
      "?                 0.061153  0.041355  0.027277  0.022437  0.017158  0.009239   \n",
      "AfricanAmerican   0.060073  0.045705  0.030973  0.024154  0.021291  0.016137   \n",
      "Asian             0.045242  0.043682  0.024961  0.021841  0.012480  0.001560   \n",
      "Caucasian         0.057412  0.042497  0.029291  0.022760  0.017753  0.014061   \n",
      "Hispanic          0.044674  0.035837  0.028964  0.018655  0.010309  0.012273   \n",
      "Other             0.051129  0.055777  0.027224  0.028552  0.017928  0.013944   \n",
      "\n",
      "time_in_hospital        13        14  \n",
      "race                                  \n",
      "?                 0.009239  0.010559  \n",
      "AfricanAmerican   0.012233  0.011244  \n",
      "Asian             0.017161  0.009360  \n",
      "Caucasian         0.011945  0.010053  \n",
      "Hispanic          0.008346  0.008837  \n",
      "Other             0.011288  0.008632  \n"
     ]
    }
   ],
   "source": [
    "# finding the connection between the diabetic meds pres and the reamission witin 30 days \n",
    "\n",
    "# readmit_vs_meds = pd.crosstab(df2['age'], df2['diabetesMed'], normalize='index')\n",
    "# print(readmit_vs_meds)\n",
    "\n",
    "\n",
    "race_vs_meds = pd.crosstab(df2['race'], df2['time_in_hospital'], normalize='index')\n",
    "print(race_vs_meds)"
   ]
  },
  {
   "cell_type": "code",
   "execution_count": 24,
   "id": "687aa902",
   "metadata": {},
   "outputs": [
    {
     "data": {
      "image/png": "[encoded data removed]",
      "text/plain": [
       "<Figure size 640x480 with 1 Axes>"
      ]
     },
     "metadata": {},
     "output_type": "display_data"
    }
   ],
   "source": [
    "race_los = df2.groupby('race')['time_in_hospital'].mean().reset_index()\n",
    "\n",
    "plt.bar(race_los['race'], race_los['time_in_hospital'])\n",
    "plt.title('Impact of race on the length of stay')\n",
    "plt.xlabel('race')\n",
    "plt.ylabel('LOS')\n",
    "plt.show()"
   ]
  },
  {
   "cell_type": "markdown",
   "id": "25226d63",
   "metadata": {},
   "source": [
    "# High-Risk Group Analysis"
   ]
  },
  {
   "cell_type": "markdown",
   "id": "113030b8",
   "metadata": {},
   "source": [
    "1. What age groups are most frequently readmitted within 30 days?"
   ]
  },
  {
   "cell_type": "code",
   "execution_count": 25,
   "id": "51a63325",
   "metadata": {},
   "outputs": [
    {
     "name": "stdout",
     "output_type": "stream",
     "text": [
      "age\n",
      "[70-80)     9475\n",
      "[60-70)     7897\n",
      "[80-90)     6223\n",
      "[50-60)     5917\n",
      "[40-50)     3278\n",
      "[30-40)     1187\n",
      "[90-100)     808\n",
      "[20-30)      510\n",
      "[10-20)      224\n",
      "[0-10)        26\n",
      "Name: count, dtype: int64\n"
     ]
    }
   ],
   "source": [
    "# number of patient within the age group that got readmitted witin 30 days. \n",
    "age_freq_admitted = df2[df2['readmitted'] == '>30']['age'].value_counts() #.idxmax() to get the index max\n",
    "print(age_freq_admitted)"
   ]
  },
  {
   "cell_type": "markdown",
   "id": "104fcf4e",
   "metadata": {},
   "source": [
    "2. Is there a difference in readmission rates between races? Explore how race is distributed across the three readmitted categories: <30, >30, and NO."
   ]
  },
  {
   "cell_type": "code",
   "execution_count": 26,
   "id": "6ed894ea",
   "metadata": {},
   "outputs": [
    {
     "name": "stdout",
     "output_type": "stream",
     "text": [
      "readmitted\n",
      "NO     10421\n",
      ">30     6634\n",
      "<30     2155\n",
      "Name: count, dtype: int64\n"
     ]
    }
   ],
   "source": [
    "AA_race = df[df['race'] == 'AfricanAmerican']['readmitted'].value_counts()\n",
    "print(AA_race)"
   ]
  },
  {
   "cell_type": "code",
   "execution_count": 27,
   "id": "6d5e6eba",
   "metadata": {},
   "outputs": [
    {
     "name": "stdout",
     "output_type": "stream",
     "text": [
      "race             readmitted\n",
      "?                NO             1547\n",
      "                 >30             538\n",
      "                 <30             188\n",
      "AfricanAmerican  NO            10421\n",
      "                 >30            6634\n",
      "                 <30            2155\n",
      "Asian            NO              415\n",
      "                 >30             161\n",
      "                 <30              65\n",
      "Caucasian        NO            40383\n",
      "                 >30           27124\n",
      "                 <30            8592\n",
      "Hispanic         NO             1183\n",
      "                 >30             642\n",
      "                 <30             212\n",
      "Other            NO              915\n",
      "                 >30             446\n",
      "                 <30             145\n",
      "Name: count, dtype: int64\n"
     ]
    }
   ],
   "source": [
    "race_read = df.groupby('race')['readmitted'].value_counts()\n",
    "print(race_read)"
   ]
  },
  {
   "cell_type": "markdown",
   "id": "1ae83c8a",
   "metadata": {},
   "source": [
    "3. Does taking diabetes medication influence readmission rates? Investigate if diabetesMed = Yes correlates with lower <30 day readmission or not.\n"
   ]
  },
  {
   "cell_type": "code",
   "execution_count": 28,
   "id": "accb7b5e",
   "metadata": {},
   "outputs": [
    {
     "name": "stdout",
     "output_type": "stream",
     "text": [
      "diabetesMed\n",
      "Yes    9111\n",
      "No     2246\n",
      "Name: count, dtype: int64\n"
     ]
    }
   ],
   "source": [
    "# affect of meds on readmission rates.\n",
    "readmission_vs_meds = df2[df2['readmitted'] == '<30']['diabetesMed'].value_counts()\n",
    "print(readmission_vs_meds)"
   ]
  },
  {
   "cell_type": "markdown",
   "id": "d394b96e",
   "metadata": {},
   "source": [
    "4. How does the length of hospital stay (time_in_hospital) vary across readmission groups? Check if patients readmitted within 30 days had shorter or longer stays during their initial visit.\n"
   ]
  },
  {
   "cell_type": "code",
   "execution_count": 29,
   "id": "7b7d0742",
   "metadata": {},
   "outputs": [
    {
     "name": "stdout",
     "output_type": "stream",
     "text": [
      "readmitted\n",
      "<30    4.768249\n",
      ">30    4.495541\n",
      "NO     4.254429\n",
      "Name: time_in_hospital, dtype: float64\n"
     ]
    }
   ],
   "source": [
    "# checking mean los with patients readmission. \n",
    "los_readmitted = df2.groupby('readmitted')['time_in_hospital'].mean()\n",
    "print(f\"{los_readmitted}\")"
   ]
  },
  {
   "cell_type": "markdown",
   "id": "c113e198",
   "metadata": {},
   "source": [
    "5. Are males or females more likely to be readmitted? Explore gender and compare rates of <30 day readmission across sexes.\n"
   ]
  },
  {
   "cell_type": "code",
   "execution_count": 30,
   "id": "83824229",
   "metadata": {},
   "outputs": [
    {
     "data": {
      "application/vnd.microsoft.datawrangler.viewer.v0+json": {
       "columns": [
        {
         "name": "index",
         "rawType": "int64",
         "type": "integer"
        },
        {
         "name": "race",
         "rawType": "object",
         "type": "string"
        },
        {
         "name": "gender",
         "rawType": "object",
         "type": "string"
        },
        {
         "name": "age",
         "rawType": "object",
         "type": "string"
        },
        {
         "name": "time_in_hospital",
         "rawType": "int64",
         "type": "integer"
        },
        {
         "name": "diabetesMed",
         "rawType": "object",
         "type": "string"
        },
        {
         "name": "readmitted",
         "rawType": "object",
         "type": "string"
        }
       ],
       "conversionMethod": "pd.DataFrame",
       "ref": "21289387-79e1-4b32-af9d-64025896eded",
       "rows": [
        [
         "0",
         "Caucasian",
         "Female",
         "[0-10)",
         "1",
         "No",
         "NO"
        ],
        [
         "1",
         "Caucasian",
         "Female",
         "[10-20)",
         "3",
         "Yes",
         ">30"
        ],
        [
         "2",
         "AfricanAmerican",
         "Female",
         "[20-30)",
         "2",
         "Yes",
         "NO"
        ],
        [
         "3",
         "Caucasian",
         "Male",
         "[30-40)",
         "2",
         "Yes",
         "NO"
        ],
        [
         "4",
         "Caucasian",
         "Male",
         "[40-50)",
         "1",
         "Yes",
         "NO"
        ]
       ],
       "shape": {
        "columns": 6,
        "rows": 5
       }
      },
      "text/html": [
       "<div>\n",
       "<style scoped>\n",
       "    .dataframe tbody tr th:only-of-type {\n",
       "        vertical-align: middle;\n",
       "    }\n",
       "\n",
       "    .dataframe tbody tr th {\n",
       "        vertical-align: top;\n",
       "    }\n",
       "\n",
       "    .dataframe thead th {\n",
       "        text-align: right;\n",
       "    }\n",
       "</style>\n",
       "<table border=\"1\" class=\"dataframe\">\n",
       "  <thead>\n",
       "    <tr style=\"text-align: right;\">\n",
       "      <th></th>\n",
       "      <th>race</th>\n",
       "      <th>gender</th>\n",
       "      <th>age</th>\n",
       "      <th>time_in_hospital</th>\n",
       "      <th>diabetesMed</th>\n",
       "      <th>readmitted</th>\n",
       "    </tr>\n",
       "  </thead>\n",
       "  <tbody>\n",
       "    <tr>\n",
       "      <th>0</th>\n",
       "      <td>Caucasian</td>\n",
       "      <td>Female</td>\n",
       "      <td>[0-10)</td>\n",
       "      <td>1</td>\n",
       "      <td>No</td>\n",
       "      <td>NO</td>\n",
       "    </tr>\n",
       "    <tr>\n",
       "      <th>1</th>\n",
       "      <td>Caucasian</td>\n",
       "      <td>Female</td>\n",
       "      <td>[10-20)</td>\n",
       "      <td>3</td>\n",
       "      <td>Yes</td>\n",
       "      <td>&gt;30</td>\n",
       "    </tr>\n",
       "    <tr>\n",
       "      <th>2</th>\n",
       "      <td>AfricanAmerican</td>\n",
       "      <td>Female</td>\n",
       "      <td>[20-30)</td>\n",
       "      <td>2</td>\n",
       "      <td>Yes</td>\n",
       "      <td>NO</td>\n",
       "    </tr>\n",
       "    <tr>\n",
       "      <th>3</th>\n",
       "      <td>Caucasian</td>\n",
       "      <td>Male</td>\n",
       "      <td>[30-40)</td>\n",
       "      <td>2</td>\n",
       "      <td>Yes</td>\n",
       "      <td>NO</td>\n",
       "    </tr>\n",
       "    <tr>\n",
       "      <th>4</th>\n",
       "      <td>Caucasian</td>\n",
       "      <td>Male</td>\n",
       "      <td>[40-50)</td>\n",
       "      <td>1</td>\n",
       "      <td>Yes</td>\n",
       "      <td>NO</td>\n",
       "    </tr>\n",
       "  </tbody>\n",
       "</table>\n",
       "</div>"
      ],
      "text/plain": [
       "              race  gender      age  time_in_hospital diabetesMed readmitted\n",
       "0        Caucasian  Female   [0-10)                 1          No         NO\n",
       "1        Caucasian  Female  [10-20)                 3         Yes        >30\n",
       "2  AfricanAmerican  Female  [20-30)                 2         Yes         NO\n",
       "3        Caucasian    Male  [30-40)                 2         Yes         NO\n",
       "4        Caucasian    Male  [40-50)                 1         Yes         NO"
      ]
     },
     "execution_count": 30,
     "metadata": {},
     "output_type": "execute_result"
    }
   ],
   "source": [
    "df2.head()"
   ]
  },
  {
   "cell_type": "code",
   "execution_count": 31,
   "id": "e928f6bd",
   "metadata": {},
   "outputs": [
    {
     "name": "stdout",
     "output_type": "stream",
     "text": [
      "gender\n",
      "Female    6152\n",
      "Male      5205\n",
      "Name: count, dtype: int64\n"
     ]
    }
   ],
   "source": [
    "gender_vs_readmission = df2.groupby('readmitted')[\"gender\"].value_counts()['<30']\n",
    "print(gender_vs_readmission)"
   ]
  },
  {
   "cell_type": "markdown",
   "id": "a18c13c8",
   "metadata": {},
   "source": [
    "6. Which combination of race, gender, and age group is at the highest risk for early readmission? Do a multi-variable group analysis to discover high-risk profiles for predictive modeling later.\n"
   ]
  },
  {
   "cell_type": "code",
   "execution_count": 32,
   "id": "06b250a3",
   "metadata": {},
   "outputs": [],
   "source": [
    "# filtering for early readmissions\n",
    "\n",
    "early_readmissions = df[df['readmitted'] == '<30']\n"
   ]
  },
  {
   "cell_type": "code",
   "execution_count": 33,
   "id": "0aea59b7",
   "metadata": {},
   "outputs": [
    {
     "name": "stdout",
     "output_type": "stream",
     "text": [
      "race       gender  age    \n",
      "Caucasian  Female  [70-80)    1255\n",
      "           Male    [70-80)    1200\n",
      "           Female  [80-90)    1077\n",
      "           Male    [60-70)    1002\n",
      "           Female  [60-70)     863\n",
      "           Male    [80-90)     692\n",
      "                   [50-60)     587\n",
      "           Female  [50-60)     585\n",
      "           Male    [40-50)     315\n",
      "           Female  [40-50)     305\n",
      "dtype: int64\n"
     ]
    }
   ],
   "source": [
    "# group by race, gender and age\n",
    "\n",
    "risk_group  = early_readmissions.groupby(['race', 'gender','age']).size().sort_values(ascending= False)\n",
    "print(risk_group.head(10))"
   ]
  },
  {
   "cell_type": "code",
   "execution_count": 34,
   "id": "a9c5d50e",
   "metadata": {},
   "outputs": [
    {
     "data": {
      "image/png": "[encoded data removed]",
      "text/plain": [
       "<Figure size 640x480 with 1 Axes>"
      ]
     },
     "metadata": {},
     "output_type": "display_data"
    }
   ],
   "source": [
    "risk_group.head(10).plot(kind = 'bar', title = 'Top 10 highest risk Demographics Profiles that have less than 30 day readmission')\n",
    "plt.ylabel(\"Readmission Rate\")\n",
    "plt.xlabel(\"(Race, Gender, Age)\")\n",
    "plt.xticks(rotation = 50)\n",
    "plt.tight_layout()\n",
    "plt.show()"
   ]
  },
  {
   "cell_type": "markdown",
   "id": "1eecbede",
   "metadata": {},
   "source": [
    "## 🔍 Conclusion & Key Takeaways\n",
    "\n",
    "- Most early readmissions (<30 days) occurred in patients aged 70–80.\n",
    "- Patients on diabetes medications were more likely to be readmitted — possibly due to greater disease severity.\n",
    "- Length of stay was slightly longer for those readmitted early, suggesting possible complications.\n",
    "- Caucasian, Female, Age 70–80 emerged as a high-risk profile for readmission.\n",
    "\n",
    "These findings can guide predictive modeling and targeted interventions to reduce readmission rates.\n"
   ]
  }
 ],
 "metadata": {
  "kernelspec": {
   "display_name": "base",
   "language": "python",
   "name": "python3"
  },
  "language_info": {
   "codemirror_mode": {
    "name": "ipython",
    "version": 3
   },
   "file_extension": ".py",
   "mimetype": "text/x-python",
   "name": "python",
   "nbconvert_exporter": "python",
   "pygments_lexer": "ipython3",
   "version": "3.12.7"
  }
 },
 "nbformat": 4,
 "nbformat_minor": 5
}
